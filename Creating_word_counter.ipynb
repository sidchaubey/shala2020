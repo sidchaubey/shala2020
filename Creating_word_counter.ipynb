{
  "nbformat": 4,
  "nbformat_minor": 0,
  "metadata": {
    "colab": {
      "name": "Creating word counter",
      "provenance": [],
      "authorship_tag": "ABX9TyMcm4JQELmpFFLeUpKLOaq/",
      "include_colab_link": true
    },
    "kernelspec": {
      "name": "python3",
      "display_name": "Python 3"
    }
  },
  "cells": [
    {
      "cell_type": "markdown",
      "metadata": {
        "id": "view-in-github",
        "colab_type": "text"
      },
      "source": [
        "<a href=\"https://colab.research.google.com/github/sidchaubey/shala2020/blob/master/Creating_word_counter.ipynb\" target=\"_parent\"><img src=\"https://colab.research.google.com/assets/colab-badge.svg\" alt=\"Open In Colab\"/></a>"
      ]
    },
    {
      "cell_type": "code",
      "metadata": {
        "id": "Cqo6G5cgjA-Y",
        "colab_type": "code",
        "colab": {
          "base_uri": "https://localhost:8080/",
          "height": 280
        },
        "outputId": "7ee30913-440c-4cd8-bd3a-4acb611300c8"
      },
      "source": [
        "string = \"\"\"\n",
        "Matrices are used as a mathematical tool for a variety of purposes in the real world. In this article, we will discuss everything there is about Matrices in Python using the famous NumPy library in the following order:\n",
        "\n",
        "What is NumPy and when to use it?\n",
        "Creating a Matrix in NumPy\n",
        "Matrix operations and examples\n",
        "Slicing of Matrices\n",
        "BONUS: Putting It All Together – Python Code to Solve a System of Linear Equations\n",
        "\n",
        "Let’s get started with Matrices in Python.\n",
        "\"\"\"\n",
        "print(string)\n",
        "string = string.lower().replace(\"\\n\",\" \")\n",
        "print(string)\n",
        "# Step1: Convert string to list of words\n",
        "lis = string.split(\" \")\n",
        "print(lis)\n",
        "# # removing occurance of \"\" (space from lis)\n",
        "lst=[]\n",
        "for i in lis:\n",
        "  if i == \"\":\n",
        "    continue\n",
        "  lst.append(i)\n",
        "print(lst)"
      ],
      "execution_count": 19,
      "outputs": [
        {
          "output_type": "stream",
          "text": [
            "\n",
            "Matrices are used as a mathematical tool for a variety of purposes in the real world. In this article, we will discuss everything there is about Matrices in Python using the famous NumPy library in the following order:\n",
            "\n",
            "What is NumPy and when to use it?\n",
            "Creating a Matrix in NumPy\n",
            "Matrix operations and examples\n",
            "Slicing of Matrices\n",
            "BONUS: Putting It All Together – Python Code to Solve a System of Linear Equations\n",
            "\n",
            "Let’s get started with Matrices in Python.\n",
            "\n",
            " matrices are used as a mathematical tool for a variety of purposes in the real world. in this article, we will discuss everything there is about matrices in python using the famous numpy library in the following order:  what is numpy and when to use it? creating a matrix in numpy matrix operations and examples slicing of matrices bonus: putting it all together – python code to solve a system of linear equations  let’s get started with matrices in python. \n",
            "['', 'matrices', 'are', 'used', 'as', 'a', 'mathematical', 'tool', 'for', 'a', 'variety', 'of', 'purposes', 'in', 'the', 'real', 'world.', 'in', 'this', 'article,', 'we', 'will', 'discuss', 'everything', 'there', 'is', 'about', 'matrices', 'in', 'python', 'using', 'the', 'famous', 'numpy', 'library', 'in', 'the', 'following', 'order:', '', 'what', 'is', 'numpy', 'and', 'when', 'to', 'use', 'it?', 'creating', 'a', 'matrix', 'in', 'numpy', 'matrix', 'operations', 'and', 'examples', 'slicing', 'of', 'matrices', 'bonus:', 'putting', 'it', 'all', 'together', '–', 'python', 'code', 'to', 'solve', 'a', 'system', 'of', 'linear', 'equations', '', 'let’s', 'get', 'started', 'with', 'matrices', 'in', 'python.', '']\n",
            "['matrices', 'are', 'used', 'as', 'a', 'mathematical', 'tool', 'for', 'a', 'variety', 'of', 'purposes', 'in', 'the', 'real', 'world.', 'in', 'this', 'article,', 'we', 'will', 'discuss', 'everything', 'there', 'is', 'about', 'matrices', 'in', 'python', 'using', 'the', 'famous', 'numpy', 'library', 'in', 'the', 'following', 'order:', 'what', 'is', 'numpy', 'and', 'when', 'to', 'use', 'it?', 'creating', 'a', 'matrix', 'in', 'numpy', 'matrix', 'operations', 'and', 'examples', 'slicing', 'of', 'matrices', 'bonus:', 'putting', 'it', 'all', 'together', '–', 'python', 'code', 'to', 'solve', 'a', 'system', 'of', 'linear', 'equations', 'let’s', 'get', 'started', 'with', 'matrices', 'in', 'python.']\n"
          ],
          "name": "stdout"
        }
      ]
    },
    {
      "cell_type": "code",
      "metadata": {
        "id": "3enE62kcjYkz",
        "colab_type": "code",
        "colab": {
          "base_uri": "https://localhost:8080/",
          "height": 55
        },
        "outputId": "a2362edc-12fc-475f-a00f-3aaa2e88bd1d"
      },
      "source": [
        "# Method1: Creating a word counter using for loop\n",
        "counter= {}\n",
        "for word in lst:\n",
        "  if word not in counter:\n",
        "    counter[word] =1\n",
        "  elif word in counter:\n",
        "    counter[word] +=1\n",
        "print(counter)\n"
      ],
      "execution_count": 11,
      "outputs": [
        {
          "output_type": "stream",
          "text": [
            "{'matrices': 4, 'are': 1, 'used': 1, 'as': 1, 'a': 4, 'mathematical': 1, 'tool': 1, 'for': 1, 'variety': 1, 'of': 3, 'purposes': 1, 'in': 6, 'the': 3, 'real': 1, 'world.': 1, 'this': 1, 'article,': 1, 'we': 1, 'will': 1, 'discuss': 1, 'everything': 1, 'there': 1, 'is': 2, 'about': 1, 'python': 2, 'using': 1, 'famous': 1, 'numpy': 3, 'library': 1, 'following': 1, 'order:': 1, 'what': 1, 'and': 2, 'when': 1, 'to': 2, 'use': 1, 'it?': 1, 'creating': 1, 'matrix': 2, 'operations': 1, 'examples': 1, 'slicing': 1, 'bonus:': 1, 'putting': 1, 'it': 1, 'all': 1, 'together': 1, '–': 1, 'code': 1, 'solve': 1, 'system': 1, 'linear': 1, 'equations': 1, 'let’s': 1, 'get': 1, 'started': 1, 'with': 1, 'python.': 1}\n"
          ],
          "name": "stdout"
        }
      ]
    },
    {
      "cell_type": "code",
      "metadata": {
        "id": "-g51BIBxkM2a",
        "colab_type": "code",
        "colab": {
          "base_uri": "https://localhost:8080/",
          "height": 35
        },
        "outputId": "5a97d3fa-2304-4949-f2f3-ac583a02df38"
      },
      "source": [
        "lst.count(\"matrices\")"
      ],
      "execution_count": 20,
      "outputs": [
        {
          "output_type": "execute_result",
          "data": {
            "text/plain": [
              "4"
            ]
          },
          "metadata": {
            "tags": []
          },
          "execution_count": 20
        }
      ]
    },
    {
      "cell_type": "code",
      "metadata": {
        "id": "5z7OVQz3pxRs",
        "colab_type": "code",
        "colab": {
          "base_uri": "https://localhost:8080/",
          "height": 35
        },
        "outputId": "31289643-2b72-4d11-bc30-db1aef2380e9"
      },
      "source": [
        ""
      ],
      "execution_count": 23,
      "outputs": [
        {
          "output_type": "execute_result",
          "data": {
            "text/plain": [
              "False"
            ]
          },
          "metadata": {
            "tags": []
          },
          "execution_count": 23
        }
      ]
    },
    {
      "cell_type": "code",
      "metadata": {
        "id": "5ETpC2FLqKla",
        "colab_type": "code",
        "colab": {
          "base_uri": "https://localhost:8080/",
          "height": 55
        },
        "outputId": "a6282bbb-8551-472d-89c6-d7d72f8cd346"
      },
      "source": [
        "# Step 2. Iterate through each element, get() its value in the dictionary, and add 1.\n",
        "word_counter={}\n",
        "for word in lst:\n",
        "  word_counter[word] = word_counter.get(word,0)+1\n",
        "print(word_counter)"
      ],
      "execution_count": 24,
      "outputs": [
        {
          "output_type": "stream",
          "text": [
            "{'matrices': 4, 'are': 1, 'used': 1, 'as': 1, 'a': 4, 'mathematical': 1, 'tool': 1, 'for': 1, 'variety': 1, 'of': 3, 'purposes': 1, 'in': 6, 'the': 3, 'real': 1, 'world.': 1, 'this': 1, 'article,': 1, 'we': 1, 'will': 1, 'discuss': 1, 'everything': 1, 'there': 1, 'is': 2, 'about': 1, 'python': 2, 'using': 1, 'famous': 1, 'numpy': 3, 'library': 1, 'following': 1, 'order:': 1, 'what': 1, 'and': 2, 'when': 1, 'to': 2, 'use': 1, 'it?': 1, 'creating': 1, 'matrix': 2, 'operations': 1, 'examples': 1, 'slicing': 1, 'bonus:': 1, 'putting': 1, 'it': 1, 'all': 1, 'together': 1, '–': 1, 'code': 1, 'solve': 1, 'system': 1, 'linear': 1, 'equations': 1, 'let’s': 1, 'get': 1, 'started': 1, 'with': 1, 'python.': 1}\n"
          ],
          "name": "stdout"
        }
      ]
    },
    {
      "cell_type": "code",
      "metadata": {
        "id": "V3v_StN3szCR",
        "colab_type": "code",
        "colab": {}
      },
      "source": [
        ""
      ],
      "execution_count": 0,
      "outputs": []
    }
  ]
}