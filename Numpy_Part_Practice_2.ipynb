{
  "nbformat": 4,
  "nbformat_minor": 0,
  "metadata": {
    "colab": {
      "name": "Numpy Part 2",
      "provenance": [],
      "collapsed_sections": [],
      "authorship_tag": "ABX9TyOrEIsJdJd4CLSouSxE3+xJ",
      "include_colab_link": true
    },
    "kernelspec": {
      "name": "python3",
      "display_name": "Python 3"
    }
  },
  "cells": [
    {
      "cell_type": "markdown",
      "metadata": {
        "id": "view-in-github",
        "colab_type": "text"
      },
      "source": [
        "<a href=\"https://colab.research.google.com/github/sidchaubey/shala2020/blob/master/Numpy_Part_Practice_2.ipynb\" target=\"_parent\"><img src=\"https://colab.research.google.com/assets/colab-badge.svg\" alt=\"Open In Colab\"/></a>"
      ]
    },
    {
      "cell_type": "code",
      "metadata": {
        "id": "PXIHRU38DmCz",
        "colab_type": "code",
        "colab": {
          "base_uri": "https://localhost:8080/",
          "height": 35
        },
        "outputId": "ae9fc5af-6cb2-4885-a8da-65071f927acb"
      },
      "source": [
        "import numpy as np\n",
        "# Performing Operations on numpy array\n",
        "a = np.arange(10)\n",
        "b = a*2\n",
        "print(b)"
      ],
      "execution_count": 1,
      "outputs": [
        {
          "output_type": "stream",
          "text": [
            "[ 0  2  4  6  8 10 12 14 16 18]\n"
          ],
          "name": "stdout"
        }
      ]
    },
    {
      "cell_type": "code",
      "metadata": {
        "id": "sgsDjbP8Ev4a",
        "colab_type": "code",
        "colab": {
          "base_uri": "https://localhost:8080/",
          "height": 35
        },
        "outputId": "6d66efa3-4504-41ff-9f70-ff7475231e64"
      },
      "source": [
        "c = a+2\n",
        "print(c)"
      ],
      "execution_count": 2,
      "outputs": [
        {
          "output_type": "stream",
          "text": [
            "[ 2  3  4  5  6  7  8  9 10 11]\n"
          ],
          "name": "stdout"
        }
      ]
    },
    {
      "cell_type": "code",
      "metadata": {
        "id": "MXYOBJ8xFsfw",
        "colab_type": "code",
        "colab": {
          "base_uri": "https://localhost:8080/",
          "height": 35
        },
        "outputId": "fc1d856e-ff7e-486c-80b8-2fdcd3b9475b"
      },
      "source": [
        "# But if we add two vector of same size then it computes element wise operation\n",
        "d = b+c\n",
        "print(d)"
      ],
      "execution_count": 3,
      "outputs": [
        {
          "output_type": "stream",
          "text": [
            "[ 2  5  8 11 14 17 20 23 26 29]\n"
          ],
          "name": "stdout"
        }
      ]
    },
    {
      "cell_type": "code",
      "metadata": {
        "id": "fgHYz-MGF9MN",
        "colab_type": "code",
        "colab": {
          "base_uri": "https://localhost:8080/",
          "height": 52
        },
        "outputId": "20c5c4dd-8874-440d-99c4-c019b4e7764f"
      },
      "source": [
        "print(a==b)# This check whether each single item in element a  is equal to each item in element b and returns corresponding True or False value\n",
        "print(a!=b)"
      ],
      "execution_count": 5,
      "outputs": [
        {
          "output_type": "stream",
          "text": [
            "[ True False False False False False False False False False]\n",
            "[False  True  True  True  True  True  True  True  True  True]\n"
          ],
          "name": "stdout"
        }
      ]
    },
    {
      "cell_type": "code",
      "metadata": {
        "id": "IuiKuGqnHYJH",
        "colab_type": "code",
        "colab": {
          "base_uri": "https://localhost:8080/",
          "height": 35
        },
        "outputId": "d920a45c-56fc-49bd-c0c0-056a001b982c"
      },
      "source": [
        "# To check whole array at a time we use array_equals\n",
        "np.array_equal(a,b)"
      ],
      "execution_count": 9,
      "outputs": [
        {
          "output_type": "execute_result",
          "data": {
            "text/plain": [
              "False"
            ]
          },
          "metadata": {
            "tags": []
          },
          "execution_count": 9
        }
      ]
    },
    {
      "cell_type": "code",
      "metadata": {
        "id": "2gO2sPpoJEgS",
        "colab_type": "code",
        "colab": {
          "base_uri": "https://localhost:8080/",
          "height": 52
        },
        "outputId": "8ad8b459-04fe-4f9d-a73f-28f9bc5ad417"
      },
      "source": [
        "# To perform logical and operator\n",
        "np.logical_and(a,b)"
      ],
      "execution_count": 10,
      "outputs": [
        {
          "output_type": "execute_result",
          "data": {
            "text/plain": [
              "array([False,  True,  True,  True,  True,  True,  True,  True,  True,\n",
              "        True])"
            ]
          },
          "metadata": {
            "tags": []
          },
          "execution_count": 10
        }
      ]
    },
    {
      "cell_type": "code",
      "metadata": {
        "id": "m5wTY6f3JyNn",
        "colab_type": "code",
        "colab": {
          "base_uri": "https://localhost:8080/",
          "height": 52
        },
        "outputId": "4588d3ee-aab5-40f2-f13c-5d4799afac93"
      },
      "source": [
        "np.logical_or(a,b)"
      ],
      "execution_count": 11,
      "outputs": [
        {
          "output_type": "execute_result",
          "data": {
            "text/plain": [
              "array([False,  True,  True,  True,  True,  True,  True,  True,  True,\n",
              "        True])"
            ]
          },
          "metadata": {
            "tags": []
          },
          "execution_count": 11
        }
      ]
    },
    {
      "cell_type": "code",
      "metadata": {
        "id": "eRT1RwqPKH_r",
        "colab_type": "code",
        "colab": {
          "base_uri": "https://localhost:8080/",
          "height": 52
        },
        "outputId": "c0e8539f-9509-4613-e41e-02904c3a0be2"
      },
      "source": [
        "np.logical_not(a)"
      ],
      "execution_count": 13,
      "outputs": [
        {
          "output_type": "execute_result",
          "data": {
            "text/plain": [
              "array([ True, False, False, False, False, False, False, False, False,\n",
              "       False])"
            ]
          },
          "metadata": {
            "tags": []
          },
          "execution_count": 13
        }
      ]
    },
    {
      "cell_type": "code",
      "metadata": {
        "id": "w143FTl0KMMd",
        "colab_type": "code",
        "colab": {
          "base_uri": "https://localhost:8080/",
          "height": 52
        },
        "outputId": "39852bb9-5b1d-4a59-ecb8-9ccb1ca421f7"
      },
      "source": [
        "np.logical_xor(a,b)"
      ],
      "execution_count": 14,
      "outputs": [
        {
          "output_type": "execute_result",
          "data": {
            "text/plain": [
              "array([ True,  True,  True,  True,  True,  True,  True,  True,  True,\n",
              "        True])"
            ]
          },
          "metadata": {
            "tags": []
          },
          "execution_count": 14
        }
      ]
    },
    {
      "cell_type": "code",
      "metadata": {
        "id": "1DRtrvAiKUjJ",
        "colab_type": "code",
        "colab": {
          "base_uri": "https://localhost:8080/",
          "height": 52
        },
        "outputId": "773c5848-87a0-4f68-9cf3-0029de8c5d1a"
      },
      "source": [
        "# Using mask to create indexing\n",
        "print(a)\n",
        "mask= [0,2,4,6,8]# Selecting only the even indices\n",
        "print(a[mask])"
      ],
      "execution_count": 17,
      "outputs": [
        {
          "output_type": "stream",
          "text": [
            "[0 1 2 3 4 5 6 7 8 9]\n",
            "[0 2 4 6 8]\n"
          ],
          "name": "stdout"
        }
      ]
    },
    {
      "cell_type": "code",
      "metadata": {
        "id": "mIIur2EhLEWw",
        "colab_type": "code",
        "colab": {
          "base_uri": "https://localhost:8080/",
          "height": 87
        },
        "outputId": "e51e3698-6fd3-40a5-d9cb-7eec4faf3f01"
      },
      "source": [
        "# BroadCasting\n",
        "a = np.arange(16).reshape(4,4)\n",
        "print(a)"
      ],
      "execution_count": 46,
      "outputs": [
        {
          "output_type": "stream",
          "text": [
            "[[ 0  1  2  3]\n",
            " [ 4  5  6  7]\n",
            " [ 8  9 10 11]\n",
            " [12 13 14 15]]\n"
          ],
          "name": "stdout"
        }
      ]
    },
    {
      "cell_type": "code",
      "metadata": {
        "id": "9ZvfX7tJMUzW",
        "colab_type": "code",
        "colab": {
          "base_uri": "https://localhost:8080/",
          "height": 87
        },
        "outputId": "adac9a9e-b475-4873-f459-e6acee8569f4"
      },
      "source": [
        "b = np.arange(12).reshape(4,3)\n",
        "print(b)"
      ],
      "execution_count": 24,
      "outputs": [
        {
          "output_type": "stream",
          "text": [
            "[[ 0  1  2]\n",
            " [ 3  4  5]\n",
            " [ 6  7  8]\n",
            " [ 9 10 11]]\n"
          ],
          "name": "stdout"
        }
      ]
    },
    {
      "cell_type": "code",
      "metadata": {
        "id": "oM1DkRJeMdjp",
        "colab_type": "code",
        "colab": {
          "base_uri": "https://localhost:8080/",
          "height": 104
        },
        "outputId": "977e9f25-7094-4c2e-e478-939471a71ce1"
      },
      "source": [
        "# In-build functions\n",
        "print(a)\n",
        "a.sum()# This computes overall sum"
      ],
      "execution_count": 27,
      "outputs": [
        {
          "output_type": "stream",
          "text": [
            "[[ 0  1  2  3]\n",
            " [ 4  5  6  7]\n",
            " [ 8  9 10 11]\n",
            " [12 13 14 15]]\n"
          ],
          "name": "stdout"
        },
        {
          "output_type": "execute_result",
          "data": {
            "text/plain": [
              "120"
            ]
          },
          "metadata": {
            "tags": []
          },
          "execution_count": 27
        }
      ]
    },
    {
      "cell_type": "code",
      "metadata": {
        "id": "__PxiNZJMjdE",
        "colab_type": "code",
        "colab": {
          "base_uri": "https://localhost:8080/",
          "height": 52
        },
        "outputId": "7ca99f40-7e34-401e-e756-c6c176c845fd"
      },
      "source": [
        "print(a.sum(axis=0))# Column wise sum\n",
        "a.sum(axis=1)# row wise sum"
      ],
      "execution_count": 30,
      "outputs": [
        {
          "output_type": "stream",
          "text": [
            "[24 28 32 36]\n"
          ],
          "name": "stdout"
        },
        {
          "output_type": "execute_result",
          "data": {
            "text/plain": [
              "array([ 6, 22, 38, 54])"
            ]
          },
          "metadata": {
            "tags": []
          },
          "execution_count": 30
        }
      ]
    },
    {
      "cell_type": "code",
      "metadata": {
        "id": "Lu3jqlh_VZ04",
        "colab_type": "code",
        "colab": {
          "base_uri": "https://localhost:8080/",
          "height": 87
        },
        "outputId": "f7aa858c-c898-4cb3-ecaa-fc7c10e00670"
      },
      "source": [
        "print(np.sin(a))"
      ],
      "execution_count": 32,
      "outputs": [
        {
          "output_type": "stream",
          "text": [
            "[[ 0.          0.84147098  0.90929743  0.14112001]\n",
            " [-0.7568025  -0.95892427 -0.2794155   0.6569866 ]\n",
            " [ 0.98935825  0.41211849 -0.54402111 -0.99999021]\n",
            " [-0.53657292  0.42016704  0.99060736  0.65028784]]\n"
          ],
          "name": "stdout"
        }
      ]
    },
    {
      "cell_type": "code",
      "metadata": {
        "id": "deaQY741aoG6",
        "colab_type": "code",
        "colab": {
          "base_uri": "https://localhost:8080/",
          "height": 87
        },
        "outputId": "15f63023-03f6-4488-cb5c-775fbe77edd2"
      },
      "source": [
        "print(np.cos(a))"
      ],
      "execution_count": 33,
      "outputs": [
        {
          "output_type": "stream",
          "text": [
            "[[ 1.          0.54030231 -0.41614684 -0.9899925 ]\n",
            " [-0.65364362  0.28366219  0.96017029  0.75390225]\n",
            " [-0.14550003 -0.91113026 -0.83907153  0.0044257 ]\n",
            " [ 0.84385396  0.90744678  0.13673722 -0.75968791]]\n"
          ],
          "name": "stdout"
        }
      ]
    },
    {
      "cell_type": "code",
      "metadata": {
        "id": "KitTFNtLblus",
        "colab_type": "code",
        "colab": {
          "base_uri": "https://localhost:8080/",
          "height": 35
        },
        "outputId": "3cf339e3-9470-4e2c-a5d5-d335bc25eb2d"
      },
      "source": [
        "np.mean(a)"
      ],
      "execution_count": 34,
      "outputs": [
        {
          "output_type": "execute_result",
          "data": {
            "text/plain": [
              "7.5"
            ]
          },
          "metadata": {
            "tags": []
          },
          "execution_count": 34
        }
      ]
    },
    {
      "cell_type": "code",
      "metadata": {
        "id": "XaiNs4SFbpnl",
        "colab_type": "code",
        "colab": {
          "base_uri": "https://localhost:8080/",
          "height": 35
        },
        "outputId": "a73b35ae-7822-4b4b-ff6e-e9c769aadc72"
      },
      "source": [
        "np.mean(a,axis=1)# row wise"
      ],
      "execution_count": 35,
      "outputs": [
        {
          "output_type": "execute_result",
          "data": {
            "text/plain": [
              "array([ 1.5,  5.5,  9.5, 13.5])"
            ]
          },
          "metadata": {
            "tags": []
          },
          "execution_count": 35
        }
      ]
    },
    {
      "cell_type": "code",
      "metadata": {
        "id": "P8wteYu3bzZb",
        "colab_type": "code",
        "colab": {
          "base_uri": "https://localhost:8080/",
          "height": 35
        },
        "outputId": "350acb0f-5078-4641-8493-fa09fb81c3f9"
      },
      "source": [
        "np.mean(a,axis=0)"
      ],
      "execution_count": 36,
      "outputs": [
        {
          "output_type": "execute_result",
          "data": {
            "text/plain": [
              "array([6., 7., 8., 9.])"
            ]
          },
          "metadata": {
            "tags": []
          },
          "execution_count": 36
        }
      ]
    },
    {
      "cell_type": "code",
      "metadata": {
        "id": "DDT3FftLcbdY",
        "colab_type": "code",
        "colab": {
          "base_uri": "https://localhost:8080/",
          "height": 35
        },
        "outputId": "e0a72679-9e25-4dd2-de1f-25c7b14e28b5"
      },
      "source": [
        "np.median(a,axis=1)# row wise"
      ],
      "execution_count": 37,
      "outputs": [
        {
          "output_type": "execute_result",
          "data": {
            "text/plain": [
              "array([ 1.5,  5.5,  9.5, 13.5])"
            ]
          },
          "metadata": {
            "tags": []
          },
          "execution_count": 37
        }
      ]
    },
    {
      "cell_type": "code",
      "metadata": {
        "id": "4ySTy_n1cy0p",
        "colab_type": "code",
        "colab": {
          "base_uri": "https://localhost:8080/",
          "height": 139
        },
        "outputId": "42ab9703-723d-4f13-c25f-0c296f80c650"
      },
      "source": [
        "from scipy.stats import mode\n",
        "mode(a,axis=1)"
      ],
      "execution_count": 48,
      "outputs": [
        {
          "output_type": "execute_result",
          "data": {
            "text/plain": [
              "ModeResult(mode=array([[ 0],\n",
              "       [ 4],\n",
              "       [ 8],\n",
              "       [12]]), count=array([[1],\n",
              "       [1],\n",
              "       [1],\n",
              "       [1]]))"
            ]
          },
          "metadata": {
            "tags": []
          },
          "execution_count": 48
        }
      ]
    },
    {
      "cell_type": "code",
      "metadata": {
        "id": "kopZDOgGc4h9",
        "colab_type": "code",
        "colab": {
          "base_uri": "https://localhost:8080/",
          "height": 35
        },
        "outputId": "d76da03b-6800-446d-ea80-41aa22f83988"
      },
      "source": [
        "mode(a, axis=0)"
      ],
      "execution_count": 50,
      "outputs": [
        {
          "output_type": "execute_result",
          "data": {
            "text/plain": [
              "ModeResult(mode=array([[0, 1, 2, 3]]), count=array([[1, 1, 1, 1]]))"
            ]
          },
          "metadata": {
            "tags": []
          },
          "execution_count": 50
        }
      ]
    },
    {
      "cell_type": "code",
      "metadata": {
        "id": "K7Mm0JZidRJD",
        "colab_type": "code",
        "colab": {
          "base_uri": "https://localhost:8080/",
          "height": 35
        },
        "outputId": "9bbb3344-2f30-40d9-c240-851e43c6c0d6"
      },
      "source": [
        "mode(a)"
      ],
      "execution_count": 49,
      "outputs": [
        {
          "output_type": "execute_result",
          "data": {
            "text/plain": [
              "ModeResult(mode=array([[0, 1, 2, 3]]), count=array([[1, 1, 1, 1]]))"
            ]
          },
          "metadata": {
            "tags": []
          },
          "execution_count": 49
        }
      ]
    },
    {
      "cell_type": "code",
      "metadata": {
        "id": "Yk4azHtgjUzI",
        "colab_type": "code",
        "colab": {
          "base_uri": "https://localhost:8080/",
          "height": 87
        },
        "outputId": "057b4fbc-d6dd-40ea-b546-2f8d7280aeaf"
      },
      "source": [
        "a = np.random.randint(1,10,16).reshape(4,4)\n",
        "print(a)"
      ],
      "execution_count": 56,
      "outputs": [
        {
          "output_type": "stream",
          "text": [
            "[[6 9 8 7]\n",
            " [9 4 2 7]\n",
            " [8 5 5 9]\n",
            " [6 1 6 2]]\n"
          ],
          "name": "stdout"
        }
      ]
    },
    {
      "cell_type": "code",
      "metadata": {
        "id": "kyErQs-ujbTQ",
        "colab_type": "code",
        "colab": {
          "base_uri": "https://localhost:8080/",
          "height": 52
        },
        "outputId": "8c0771a4-583d-4f7f-c45e-62bca33d3b8b"
      },
      "source": [
        "print(a.max())\n",
        "a.argmin()"
      ],
      "execution_count": 60,
      "outputs": [
        {
          "output_type": "stream",
          "text": [
            "9\n"
          ],
          "name": "stdout"
        },
        {
          "output_type": "execute_result",
          "data": {
            "text/plain": [
              "13"
            ]
          },
          "metadata": {
            "tags": []
          },
          "execution_count": 60
        }
      ]
    },
    {
      "cell_type": "code",
      "metadata": {
        "id": "_r-uddIZl9fD",
        "colab_type": "code",
        "colab": {
          "base_uri": "https://localhost:8080/",
          "height": 35
        },
        "outputId": "a667f86c-dcf1-4b66-e197-469efaae9cc5"
      },
      "source": [
        "a.argmax(axis=0)"
      ],
      "execution_count": 62,
      "outputs": [
        {
          "output_type": "execute_result",
          "data": {
            "text/plain": [
              "array([1, 0, 0, 2])"
            ]
          },
          "metadata": {
            "tags": []
          },
          "execution_count": 62
        }
      ]
    },
    {
      "cell_type": "code",
      "metadata": {
        "id": "hu9vqDUkmCCa",
        "colab_type": "code",
        "colab": {
          "base_uri": "https://localhost:8080/",
          "height": 35
        },
        "outputId": "afeb3dd9-21a2-468b-de95-bf5f21b2529d"
      },
      "source": [
        "a.argmax(axis=1)"
      ],
      "execution_count": 63,
      "outputs": [
        {
          "output_type": "execute_result",
          "data": {
            "text/plain": [
              "array([1, 0, 3, 0])"
            ]
          },
          "metadata": {
            "tags": []
          },
          "execution_count": 63
        }
      ]
    },
    {
      "cell_type": "code",
      "metadata": {
        "id": "PMs73Z31m1AQ",
        "colab_type": "code",
        "colab": {
          "base_uri": "https://localhost:8080/",
          "height": 35
        },
        "outputId": "659cd39c-d585-4714-a77b-2ee405ee9727"
      },
      "source": [
        "a.argmin(axis=1)"
      ],
      "execution_count": 61,
      "outputs": [
        {
          "output_type": "execute_result",
          "data": {
            "text/plain": [
              "array([0, 2, 1, 1])"
            ]
          },
          "metadata": {
            "tags": []
          },
          "execution_count": 61
        }
      ]
    },
    {
      "cell_type": "code",
      "metadata": {
        "id": "8iCTnvywnWfK",
        "colab_type": "code",
        "colab": {
          "base_uri": "https://localhost:8080/",
          "height": 35
        },
        "outputId": "11e3d145-56b8-4750-c1a7-ede82dd4b0c2"
      },
      "source": [
        "# Logical operation\n",
        "print(np.all([True,True,True]))"
      ],
      "execution_count": 66,
      "outputs": [
        {
          "output_type": "stream",
          "text": [
            "True\n"
          ],
          "name": "stdout"
        }
      ]
    },
    {
      "cell_type": "code",
      "metadata": {
        "id": "R-UKsgAOnvrU",
        "colab_type": "code",
        "colab": {
          "base_uri": "https://localhost:8080/",
          "height": 35
        },
        "outputId": "63a32eba-d616-40ff-88d1-37ab0857bde7"
      },
      "source": [
        "print(np.any([True,True,True]))"
      ],
      "execution_count": 67,
      "outputs": [
        {
          "output_type": "stream",
          "text": [
            "True\n"
          ],
          "name": "stdout"
        }
      ]
    },
    {
      "cell_type": "code",
      "metadata": {
        "id": "fleIIRv8n8ij",
        "colab_type": "code",
        "colab": {
          "base_uri": "https://localhost:8080/",
          "height": 35
        },
        "outputId": "f847dcfa-35f1-4ad6-858a-6ce9ff6fe7fb"
      },
      "source": [
        "print(np.all([True,True,False]))"
      ],
      "execution_count": 68,
      "outputs": [
        {
          "output_type": "stream",
          "text": [
            "False\n"
          ],
          "name": "stdout"
        }
      ]
    },
    {
      "cell_type": "code",
      "metadata": {
        "id": "tmneBOiBoCsw",
        "colab_type": "code",
        "colab": {
          "base_uri": "https://localhost:8080/",
          "height": 35
        },
        "outputId": "70956899-786f-447c-b807-617c7e1f9ac0"
      },
      "source": [
        "print(np.any([True,False,False]))"
      ],
      "execution_count": 69,
      "outputs": [
        {
          "output_type": "stream",
          "text": [
            "True\n"
          ],
          "name": "stdout"
        }
      ]
    },
    {
      "cell_type": "code",
      "metadata": {
        "id": "LCyG10YzobE6",
        "colab_type": "code",
        "colab": {
          "base_uri": "https://localhost:8080/",
          "height": 35
        },
        "outputId": "1b12a6e6-ddeb-41d4-abe9-b2b0fc1f944c"
      },
      "source": [
        "print(np.all([False,False,False]))"
      ],
      "execution_count": 70,
      "outputs": [
        {
          "output_type": "stream",
          "text": [
            "False\n"
          ],
          "name": "stdout"
        }
      ]
    },
    {
      "cell_type": "code",
      "metadata": {
        "id": "BJHIZpwYoiBm",
        "colab_type": "code",
        "colab": {
          "base_uri": "https://localhost:8080/",
          "height": 35
        },
        "outputId": "e846a850-1e1d-4e5d-c285-69a59620804d"
      },
      "source": [
        "print(np.any([False,False,False]))"
      ],
      "execution_count": 71,
      "outputs": [
        {
          "output_type": "stream",
          "text": [
            "False\n"
          ],
          "name": "stdout"
        }
      ]
    },
    {
      "cell_type": "code",
      "metadata": {
        "id": "4H6oiiG-oj-8",
        "colab_type": "code",
        "colab": {
          "base_uri": "https://localhost:8080/",
          "height": 35
        },
        "outputId": "01f5dd1a-f5ae-4bea-ea75-80ec7e76bbfd"
      },
      "source": [
        "print(np.all(a>0))"
      ],
      "execution_count": 72,
      "outputs": [
        {
          "output_type": "stream",
          "text": [
            "True\n"
          ],
          "name": "stdout"
        }
      ]
    },
    {
      "cell_type": "code",
      "metadata": {
        "id": "qHgPyg6Dpes-",
        "colab_type": "code",
        "colab": {
          "base_uri": "https://localhost:8080/",
          "height": 104
        },
        "outputId": "4779ba1f-5a4d-45c9-e089-704614c26850"
      },
      "source": [
        "a = np.random.randint(1,100,10)\n",
        "print(\"a: \",a)\n",
        "b = np.random.randint(1,100,10)\n",
        "print(\"b: \\n\",b)\n",
        "c = np.random.randint(1,100,10)\n",
        "print(\"c: \\n\",c)"
      ],
      "execution_count": 73,
      "outputs": [
        {
          "output_type": "stream",
          "text": [
            "a:  [70  4  4 25 55 11 43 80 89 90]\n",
            "b: \n",
            " [82 27 53  3 15 41 45 40 86 65]\n",
            "c: \n",
            " [98 80 31 78  2 13 26 99 26 71]\n"
          ],
          "name": "stdout"
        }
      ]
    },
    {
      "cell_type": "code",
      "metadata": {
        "id": "Orzz7vw7qGrJ",
        "colab_type": "code",
        "colab": {
          "base_uri": "https://localhost:8080/",
          "height": 35
        },
        "outputId": "3eb67b44-e4db-46fc-a5d4-9b013d2ab373"
      },
      "source": [
        "print((a>c) & (a<b).any())"
      ],
      "execution_count": 75,
      "outputs": [
        {
          "output_type": "stream",
          "text": [
            "[False False False False  True False  True False  True  True]\n"
          ],
          "name": "stdout"
        }
      ]
    },
    {
      "cell_type": "code",
      "metadata": {
        "id": "v8kaTsBYqPPX",
        "colab_type": "code",
        "colab": {
          "base_uri": "https://localhost:8080/",
          "height": 277
        },
        "outputId": "faf1280d-997b-4112-a16b-91d4bb408706"
      },
      "source": [
        "# Broadcasting\n",
        "# Case 1:\n",
        "a = np.random.randint(1,100,16).reshape(4,4) # we can also use np.tile((1,2,3,4),(4,1))\n",
        "print(\"a: \\n\",a)\n",
        "b = np.random.randint(1,100,16).reshape(4,4)\n",
        "print(\"b: \\n\",b)\n",
        "print(\"a+b: \\n\",a+b)"
      ],
      "execution_count": 82,
      "outputs": [
        {
          "output_type": "stream",
          "text": [
            "a: \n",
            " [[66  4 63 94]\n",
            " [43 83 65 19]\n",
            " [41 42 52 59]\n",
            " [99 93 83 96]]\n",
            "b: \n",
            " [[27 91 91 87]\n",
            " [27 67 54 81]\n",
            " [52 90 26  2]\n",
            " [29 32 36 94]]\n",
            "a+b: \n",
            " [[ 93  95 154 181]\n",
            " [ 70 150 119 100]\n",
            " [ 93 132  78  61]\n",
            " [128 125 119 190]]\n"
          ],
          "name": "stdout"
        }
      ]
    },
    {
      "cell_type": "code",
      "metadata": {
        "id": "nBWSQZvVuNxB",
        "colab_type": "code",
        "colab": {
          "base_uri": "https://localhost:8080/",
          "height": 225
        },
        "outputId": "7819a73e-c2b1-4761-8bd9-0d37d8720c31"
      },
      "source": [
        "# Case 2:\n",
        "a = np.random.randint(1,100,4).reshape(4,)\n",
        "print(\"a: \\n\",a)\n",
        "b = np.random.randint(1,100,16).reshape(4,4)\n",
        "print(\"b: \\n\",b)\n",
        "print(\"a+b: \\n\",a+b)"
      ],
      "execution_count": 78,
      "outputs": [
        {
          "output_type": "stream",
          "text": [
            "a: \n",
            " [19 73 89 77]\n",
            "b: \n",
            " [[46 87 58  9]\n",
            " [12 78 91 22]\n",
            " [97 38 96 67]\n",
            " [63 36  9 81]]\n",
            "a+b: \n",
            " [[ 65 160 147  86]\n",
            " [ 31 151 180  99]\n",
            " [116 111 185 144]\n",
            " [ 82 109  98 158]]\n"
          ],
          "name": "stdout"
        }
      ]
    },
    {
      "cell_type": "code",
      "metadata": {
        "id": "7WBcNHqluZo1",
        "colab_type": "code",
        "colab": {
          "base_uri": "https://localhost:8080/",
          "height": 225
        },
        "outputId": "a48c506c-6d1c-4376-ab0c-f432e1135d51"
      },
      "source": [
        "# Case 3:\n",
        "a = np.random.randint(1,100,4).reshape(4,)\n",
        "a = a[:,np.newaxis]\n",
        "print(\"a: \\n\",a)\n",
        "b = np.random.randint(1,100,4).reshape(4,)\n",
        "print(\"b: \\n\",b)\n",
        "print(\"a+b: \\n\",a+b)"
      ],
      "execution_count": 81,
      "outputs": [
        {
          "output_type": "stream",
          "text": [
            "a: \n",
            " [[71]\n",
            " [20]\n",
            " [ 9]\n",
            " [26]]\n",
            "b: \n",
            " [85 12 39 16]\n",
            "a+b: \n",
            " [[156  83 110  87]\n",
            " [105  32  59  36]\n",
            " [ 94  21  48  25]\n",
            " [111  38  65  42]]\n"
          ],
          "name": "stdout"
        }
      ]
    },
    {
      "cell_type": "code",
      "metadata": {
        "id": "FUypT7uEumKY",
        "colab_type": "code",
        "colab": {
          "base_uri": "https://localhost:8080/",
          "height": 87
        },
        "outputId": "0f36809e-ae58-4921-b4d3-fb8cdfa94c77"
      },
      "source": [
        "# Flattening\n",
        "a = np.arange(10).reshape(2,5)\n",
        "print(\"Before flattening a: \\n\",a)\n",
        "a = np.ravel(a)\n",
        "print(\"After flattening a: \",a)"
      ],
      "execution_count": 85,
      "outputs": [
        {
          "output_type": "stream",
          "text": [
            "Before flattening a: \n",
            " [[0 1 2 3 4]\n",
            " [5 6 7 8 9]]\n",
            "After flattening a:  [0 1 2 3 4 5 6 7 8 9]\n"
          ],
          "name": "stdout"
        }
      ]
    },
    {
      "cell_type": "code",
      "metadata": {
        "id": "295smb9Qvp29",
        "colab_type": "code",
        "colab": {
          "base_uri": "https://localhost:8080/",
          "height": 52
        },
        "outputId": "a26592da-4857-4215-f364-496ff9da4938"
      },
      "source": [
        "# Sorting\n",
        "a = np.random.randint(1,100,10)\n",
        "print(\"Before Sorting: \",a)\n",
        "print(\"After Sorting: \",np.sort(a))"
      ],
      "execution_count": 86,
      "outputs": [
        {
          "output_type": "stream",
          "text": [
            "Before Sorting:  [21 96 98  8 42 77 25 48 68 40]\n",
            "After Sorting:  [ 8 21 25 40 42 48 68 77 96 98]\n"
          ],
          "name": "stdout"
        }
      ]
    },
    {
      "cell_type": "code",
      "metadata": {
        "id": "c8mNn2pTwiZt",
        "colab_type": "code",
        "colab": {
          "base_uri": "https://localhost:8080/",
          "height": 121
        },
        "outputId": "f675123b-ab3a-4644-a24b-158d6f523955"
      },
      "source": [
        "a = np.random.randint(1,100,10).reshape(2,5)\n",
        "print(\"Before Sorting: \\n\",a)\n",
        "print(\"After Sorting: \\n\",np.sort(a,axis=0))"
      ],
      "execution_count": 88,
      "outputs": [
        {
          "output_type": "stream",
          "text": [
            "Before Sorting: \n",
            " [[80 58 61  1 42]\n",
            " [42 85 76 98 24]]\n",
            "After Sorting: \n",
            " [[42 58 61  1 24]\n",
            " [80 85 76 98 42]]\n"
          ],
          "name": "stdout"
        }
      ]
    },
    {
      "cell_type": "code",
      "metadata": {
        "id": "D6CTEm0bwwkD",
        "colab_type": "code",
        "colab": {
          "base_uri": "https://localhost:8080/",
          "height": 121
        },
        "outputId": "b895144a-cd99-4ac8-ccae-bc0b02e3450d"
      },
      "source": [
        "a = np.random.randint(1,100,10).reshape(2,5)\n",
        "print(\"Before Sorting: \\n\",a)\n",
        "print(\"After Sorting: \\n\",np.sort(a,axis=1))"
      ],
      "execution_count": 89,
      "outputs": [
        {
          "output_type": "stream",
          "text": [
            "Before Sorting: \n",
            " [[67 87 58 82  9]\n",
            " [29  4 65 63 35]]\n",
            "After Sorting: \n",
            " [[ 9 58 67 82 87]\n",
            " [ 4 29 35 63 65]]\n"
          ],
          "name": "stdout"
        }
      ]
    },
    {
      "cell_type": "code",
      "metadata": {
        "id": "-CbKWEbAw3Yj",
        "colab_type": "code",
        "colab": {
          "base_uri": "https://localhost:8080/",
          "height": 121
        },
        "outputId": "cac99461-e45e-4f1f-ea54-5c4998e5495f"
      },
      "source": [
        "a = np.random.randint(1,100,10).reshape(2,5)\n",
        "print(\"Before Sorting: \\n\",a)\n",
        "print(\"After Sorting: \\n\",np.argsort(a,axis=0))"
      ],
      "execution_count": 90,
      "outputs": [
        {
          "output_type": "stream",
          "text": [
            "Before Sorting: \n",
            " [[69 95 80 44 71]\n",
            " [12 55 58 94 27]]\n",
            "After Sorting: \n",
            " [[1 1 1 0 1]\n",
            " [0 0 0 1 0]]\n"
          ],
          "name": "stdout"
        }
      ]
    },
    {
      "cell_type": "code",
      "metadata": {
        "id": "IucW36-Sw6_G",
        "colab_type": "code",
        "colab": {
          "base_uri": "https://localhost:8080/",
          "height": 121
        },
        "outputId": "3b67a3e5-4c64-477a-ba65-3d356d21de32"
      },
      "source": [
        "a = np.random.randint(1,100,10).reshape(2,5)\n",
        "print(\"Before Sorting: \\n\",a)\n",
        "print(\"After Sorting: \\n\",np.argsort(a,axis=0))"
      ],
      "execution_count": 92,
      "outputs": [
        {
          "output_type": "stream",
          "text": [
            "Before Sorting: \n",
            " [[ 4 82 19  7 37]\n",
            " [96 23  5 80 15]]\n",
            "After Sorting: \n",
            " [[0 1 1 0 1]\n",
            " [1 0 0 1 0]]\n"
          ],
          "name": "stdout"
        }
      ]
    },
    {
      "cell_type": "code",
      "metadata": {
        "id": "3dtwTpcHxBv4",
        "colab_type": "code",
        "colab": {}
      },
      "source": [
        ""
      ],
      "execution_count": 0,
      "outputs": []
    }
  ]
}