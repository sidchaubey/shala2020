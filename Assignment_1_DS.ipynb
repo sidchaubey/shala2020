{
  "nbformat": 4,
  "nbformat_minor": 0,
  "metadata": {
    "colab": {
      "name": "Assignment -1 - DS.ipynb",
      "provenance": [],
      "collapsed_sections": [],
      "include_colab_link": true
    },
    "kernelspec": {
      "name": "python3",
      "display_name": "Python 3"
    }
  },
  "cells": [
    {
      "cell_type": "markdown",
      "metadata": {
        "id": "view-in-github",
        "colab_type": "text"
      },
      "source": [
        "<a href=\"https://colab.research.google.com/github/sidchaubey/shala2020/blob/master/Assignment_1_DS.ipynb\" target=\"_parent\"><img src=\"https://colab.research.google.com/assets/colab-badge.svg\" alt=\"Open In Colab\"/></a>"
      ]
    },
    {
      "cell_type": "markdown",
      "metadata": {
        "id": "hmr2U-GChnlR",
        "colab_type": "text"
      },
      "source": [
        "\n",
        "# **Assignment - 1 : Getting Started**\n",
        "\n",
        "---\n",
        "\n",
        "This assignment will get you familiarized with python libraries required for ***data science*** and ***machine learning***. You will have to complete the code snippets and run them. "
      ]
    },
    {
      "cell_type": "markdown",
      "metadata": {
        "id": "211pD45xEO0u",
        "colab_type": "text"
      },
      "source": [
        "## **Note :**   Use only the methods and attributes of the ```numpy``` library. **Do not** hard-code them. Avoid loops as much as possible."
      ]
    },
    {
      "cell_type": "markdown",
      "metadata": {
        "id": "O7v9C4mun3SQ",
        "colab_type": "text"
      },
      "source": [
        "---\n",
        "## Part - 1\n",
        " In this part, you will work with the library ```numpy```. \n",
        "\n",
        "\n"
      ]
    },
    {
      "cell_type": "markdown",
      "metadata": {
        "id": "846yDaXQwiMD",
        "colab_type": "text"
      },
      "source": [
        "Import ```numpy``` with an alias name ```np```. Initialize two arrays $a$, $b$ of size $3 \\times 5$ with random values and print them. "
      ]
    },
    {
      "cell_type": "code",
      "metadata": {
        "id": "_MyeCO3_o3oq",
        "colab_type": "code",
        "colab": {
          "base_uri": "https://localhost:8080/",
          "height": 121
        },
        "outputId": "6d9d2361-8157-4975-fecb-7789724d871e"
      },
      "source": [
        "import numpy as np\n",
        "a = np.random.random(15).reshape(3,5)\n",
        "b = np.random.rand(3,5)\n",
        "print(\"a: \",a)\n",
        "print(\"b: \",b)"
      ],
      "execution_count": 2,
      "outputs": [
        {
          "output_type": "stream",
          "text": [
            "a:  [[0.17375431 0.81320321 0.42930871 0.87145618 0.24801734]\n",
            " [0.03296755 0.36981437 0.34305142 0.71558533 0.09991513]\n",
            " [0.24181083 0.7533983  0.17513877 0.88599131 0.34923448]]\n",
            "b:  [[0.18035458 0.87383486 0.29527326 0.09485107 0.60449727]\n",
            " [0.17219477 0.54776015 0.51636528 0.94279684 0.20855865]\n",
            " [0.85313879 0.19106711 0.24061346 0.484466   0.77405448]]\n"
          ],
          "name": "stdout"
        }
      ]
    },
    {
      "cell_type": "markdown",
      "metadata": {
        "id": "p7jtpYT4wiO6",
        "colab_type": "text"
      },
      "source": [
        "Initialize and print two arrays $c$ and $d$ having the following properties:\n",
        "*   $c$ is a row vector with all non-negative integer values less than 100\n",
        "* $d$ is a square matrix of size 3 having all entries as 0.0"
      ]
    },
    {
      "cell_type": "code",
      "metadata": {
        "id": "a2lJdRf8x9f2",
        "colab_type": "code",
        "colab": {
          "base_uri": "https://localhost:8080/",
          "height": 87
        },
        "outputId": "d5920b2e-8239-4a7c-c6ce-cde19635125c"
      },
      "source": [
        "c = np.random.randint(1,100,10)\n",
        "d = np.random.randint(1,100,9).reshape(3,3)\n",
        "print(\"c: \",c)\n",
        "print(\"d: \",d)\n",
        "\n"
      ],
      "execution_count": 3,
      "outputs": [
        {
          "output_type": "stream",
          "text": [
            "c:  [91 86 25 55 85 74 17 96 11 65]\n",
            "d:  [[11 48 63]\n",
            " [82 86 92]\n",
            " [30 72 45]]\n"
          ],
          "name": "stdout"
        }
      ]
    },
    {
      "cell_type": "markdown",
      "metadata": {
        "id": "qqgtSsa88Zmh",
        "colab_type": "text"
      },
      "source": [
        "We have $e$ as following : ```e = [[1,2,3],[4,5,6],[7,8,9]]```. Change $e$ as a numpy array and print it."
      ]
    },
    {
      "cell_type": "code",
      "metadata": {
        "id": "Krhm4bVE7RET",
        "colab_type": "code",
        "colab": {
          "base_uri": "https://localhost:8080/",
          "height": 35
        },
        "outputId": "bd89527a-e2ea-47e0-ae2b-4cc4d0f8b1b5"
      },
      "source": [
        "e = [[1,2,3],[4,5,6],[7,8,9]]\n",
        "e = np.array(e)\n",
        "print(type(e))\n"
      ],
      "execution_count": 4,
      "outputs": [
        {
          "output_type": "stream",
          "text": [
            "<class 'numpy.ndarray'>\n"
          ],
          "name": "stdout"
        }
      ]
    },
    {
      "cell_type": "markdown",
      "metadata": {
        "id": "1qTikI0foam9",
        "colab_type": "text"
      },
      "source": [
        "$f$ and $g$ are two square matrices of size 5 such that all the entries of $f$ are 1 and $g$ is an identity matrix. Initialize them and print them"
      ]
    },
    {
      "cell_type": "code",
      "metadata": {
        "id": "DvaLckI49aBV",
        "colab_type": "code",
        "colab": {
          "base_uri": "https://localhost:8080/",
          "height": 191
        },
        "outputId": "a906d678-9472-4549-9205-6cc88a92ad6d"
      },
      "source": [
        "f = np.ones((5,5))\n",
        "print(f)\n",
        "g = np.eye(5,5)\n",
        "print(\"g: \",g)"
      ],
      "execution_count": 5,
      "outputs": [
        {
          "output_type": "stream",
          "text": [
            "[[1. 1. 1. 1. 1.]\n",
            " [1. 1. 1. 1. 1.]\n",
            " [1. 1. 1. 1. 1.]\n",
            " [1. 1. 1. 1. 1.]\n",
            " [1. 1. 1. 1. 1.]]\n",
            "g:  [[1. 0. 0. 0. 0.]\n",
            " [0. 1. 0. 0. 0.]\n",
            " [0. 0. 1. 0. 0.]\n",
            " [0. 0. 0. 1. 0.]\n",
            " [0. 0. 0. 0. 1.]]\n"
          ],
          "name": "stdout"
        }
      ]
    },
    {
      "cell_type": "markdown",
      "metadata": {
        "id": "gcBZAZibAKcg",
        "colab_type": "text"
      },
      "source": [
        "Reshape $c$ into a $10 \\times 10$ matrix and name it $h$. Now flatten $h$, call it $c^\\prime$ and print **YES** when the shapes of $c$ and $c^\\prime$ are same. Otherwise print **NO**."
      ]
    },
    {
      "cell_type": "code",
      "metadata": {
        "id": "I71vtO9bA9Pi",
        "colab_type": "code",
        "colab": {
          "base_uri": "https://localhost:8080/",
          "height": 953
        },
        "outputId": "22d21b95-a4e7-4502-fc6d-d8a5bc455094"
      },
      "source": [
        "c = np.random.rand(100)\n",
        "print(\"c: \",c)\n",
        "h = c.reshape(10,10)\n",
        "print(\"h: \",h)\n",
        "c_ = h.flatten()\n",
        "print(\"c_ : \",c_)\n",
        "# Yes they both are the same"
      ],
      "execution_count": 6,
      "outputs": [
        {
          "output_type": "stream",
          "text": [
            "c:  [0.59157041 0.26996329 0.38642744 0.60694145 0.85729376 0.38163434\n",
            " 0.79806832 0.14518113 0.18425961 0.4804197  0.01121695 0.95746998\n",
            " 0.50223848 0.215217   0.69350328 0.31692105 0.82076015 0.11300038\n",
            " 0.76694428 0.43359281 0.43901768 0.2028302  0.96757452 0.22918713\n",
            " 0.73161508 0.92980432 0.61880319 0.94464092 0.96844269 0.54147891\n",
            " 0.4177248  0.20279718 0.58004517 0.36459161 0.11121189 0.89476426\n",
            " 0.63639978 0.77761604 0.22545514 0.08206053 0.16675277 0.77497833\n",
            " 0.94837855 0.22782943 0.39100117 0.67475243 0.0752788  0.61281792\n",
            " 0.3674626  0.48862646 0.5137141  0.22576202 0.4230668  0.70818649\n",
            " 0.01032141 0.71393527 0.52260505 0.19930131 0.62643486 0.65799872\n",
            " 0.03796635 0.96845801 0.16444383 0.54422466 0.57371619 0.76188596\n",
            " 0.39226852 0.60975425 0.48866103 0.82178797 0.91162944 0.12194487\n",
            " 0.66936098 0.31026115 0.59528937 0.68775458 0.30658336 0.08235792\n",
            " 0.21650933 0.04031473 0.5399423  0.20591643 0.15821541 0.84462394\n",
            " 0.94013761 0.85271541 0.50318882 0.81473153 0.60847846 0.22596231\n",
            " 0.94346942 0.36418346 0.95015935 0.13857089 0.1938851  0.58195136\n",
            " 0.89998289 0.75419218 0.38574925 0.2310051 ]\n",
            "h:  [[0.59157041 0.26996329 0.38642744 0.60694145 0.85729376 0.38163434\n",
            "  0.79806832 0.14518113 0.18425961 0.4804197 ]\n",
            " [0.01121695 0.95746998 0.50223848 0.215217   0.69350328 0.31692105\n",
            "  0.82076015 0.11300038 0.76694428 0.43359281]\n",
            " [0.43901768 0.2028302  0.96757452 0.22918713 0.73161508 0.92980432\n",
            "  0.61880319 0.94464092 0.96844269 0.54147891]\n",
            " [0.4177248  0.20279718 0.58004517 0.36459161 0.11121189 0.89476426\n",
            "  0.63639978 0.77761604 0.22545514 0.08206053]\n",
            " [0.16675277 0.77497833 0.94837855 0.22782943 0.39100117 0.67475243\n",
            "  0.0752788  0.61281792 0.3674626  0.48862646]\n",
            " [0.5137141  0.22576202 0.4230668  0.70818649 0.01032141 0.71393527\n",
            "  0.52260505 0.19930131 0.62643486 0.65799872]\n",
            " [0.03796635 0.96845801 0.16444383 0.54422466 0.57371619 0.76188596\n",
            "  0.39226852 0.60975425 0.48866103 0.82178797]\n",
            " [0.91162944 0.12194487 0.66936098 0.31026115 0.59528937 0.68775458\n",
            "  0.30658336 0.08235792 0.21650933 0.04031473]\n",
            " [0.5399423  0.20591643 0.15821541 0.84462394 0.94013761 0.85271541\n",
            "  0.50318882 0.81473153 0.60847846 0.22596231]\n",
            " [0.94346942 0.36418346 0.95015935 0.13857089 0.1938851  0.58195136\n",
            "  0.89998289 0.75419218 0.38574925 0.2310051 ]]\n",
            "c_ :  [0.59157041 0.26996329 0.38642744 0.60694145 0.85729376 0.38163434\n",
            " 0.79806832 0.14518113 0.18425961 0.4804197  0.01121695 0.95746998\n",
            " 0.50223848 0.215217   0.69350328 0.31692105 0.82076015 0.11300038\n",
            " 0.76694428 0.43359281 0.43901768 0.2028302  0.96757452 0.22918713\n",
            " 0.73161508 0.92980432 0.61880319 0.94464092 0.96844269 0.54147891\n",
            " 0.4177248  0.20279718 0.58004517 0.36459161 0.11121189 0.89476426\n",
            " 0.63639978 0.77761604 0.22545514 0.08206053 0.16675277 0.77497833\n",
            " 0.94837855 0.22782943 0.39100117 0.67475243 0.0752788  0.61281792\n",
            " 0.3674626  0.48862646 0.5137141  0.22576202 0.4230668  0.70818649\n",
            " 0.01032141 0.71393527 0.52260505 0.19930131 0.62643486 0.65799872\n",
            " 0.03796635 0.96845801 0.16444383 0.54422466 0.57371619 0.76188596\n",
            " 0.39226852 0.60975425 0.48866103 0.82178797 0.91162944 0.12194487\n",
            " 0.66936098 0.31026115 0.59528937 0.68775458 0.30658336 0.08235792\n",
            " 0.21650933 0.04031473 0.5399423  0.20591643 0.15821541 0.84462394\n",
            " 0.94013761 0.85271541 0.50318882 0.81473153 0.60847846 0.22596231\n",
            " 0.94346942 0.36418346 0.95015935 0.13857089 0.1938851  0.58195136\n",
            " 0.89998289 0.75419218 0.38574925 0.2310051 ]\n"
          ],
          "name": "stdout"
        }
      ]
    },
    {
      "cell_type": "markdown",
      "metadata": {
        "id": "8FrecDPiA-Bv",
        "colab_type": "text"
      },
      "source": [
        "Let $A$ denote a randomly initialized three dimensional matrix of shape (2,10,5). Transpose $A$, call it $A^\\prime$, such that its shape is (5,2,10) and print it."
      ]
    },
    {
      "cell_type": "code",
      "metadata": {
        "id": "VbOKqSm6Bkaq",
        "colab_type": "code",
        "colab": {
          "base_uri": "https://localhost:8080/",
          "height": 797
        },
        "outputId": "259cd4f6-b30d-46dd-ef86-82eb6a4b3a75"
      },
      "source": [
        "A = np.random.rand(2,10,5)\n",
        "print(\"A: \",A)\n",
        "A_ = np.transpose(A).reshape(5,2,10)\n",
        "print(\"A_: \",A_)"
      ],
      "execution_count": 7,
      "outputs": [
        {
          "output_type": "stream",
          "text": [
            "A:  [[[0.95131684 0.89752633 0.77947444 0.70251626 0.67236078]\n",
            "  [0.64257763 0.84411092 0.34318192 0.67552811 0.66118908]\n",
            "  [0.71683849 0.23217012 0.91728457 0.64192706 0.84114352]\n",
            "  [0.37286529 0.38248431 0.32205388 0.54615899 0.2338654 ]\n",
            "  [0.8477363  0.1702244  0.95290453 0.69904456 0.79498338]\n",
            "  [0.37778293 0.54624009 0.52204275 0.40990357 0.53073809]\n",
            "  [0.34473922 0.33145526 0.70310932 0.99070047 0.00354889]\n",
            "  [0.68568398 0.60152224 0.24159567 0.83540745 0.72738059]\n",
            "  [0.56202313 0.30592555 0.7659751  0.67283558 0.54193648]\n",
            "  [0.74576873 0.39141225 0.5613681  0.21598878 0.98477032]]\n",
            "\n",
            " [[0.49630962 0.6945348  0.69294344 0.84494081 0.01792501]\n",
            "  [0.1073711  0.74376313 0.93239051 0.35367158 0.52194503]\n",
            "  [0.96494484 0.10023541 0.13516801 0.7272681  0.50786758]\n",
            "  [0.1808086  0.96864888 0.13269442 0.15025568 0.89574472]\n",
            "  [0.39790037 0.97019401 0.81649668 0.23571449 0.89104022]\n",
            "  [0.79958975 0.9089684  0.6250654  0.21076179 0.49017831]\n",
            "  [0.04344747 0.91956657 0.43477244 0.5594353  0.65705286]\n",
            "  [0.73086202 0.70675057 0.50796228 0.21257066 0.48077848]\n",
            "  [0.15279073 0.48625917 0.86257263 0.5496471  0.92204801]\n",
            "  [0.79714923 0.26193471 0.30536471 0.46221536 0.79690531]]]\n",
            "A_:  [[[0.95131684 0.49630962 0.64257763 0.1073711  0.71683849 0.96494484\n",
            "   0.37286529 0.1808086  0.8477363  0.39790037]\n",
            "  [0.37778293 0.79958975 0.34473922 0.04344747 0.68568398 0.73086202\n",
            "   0.56202313 0.15279073 0.74576873 0.79714923]]\n",
            "\n",
            " [[0.89752633 0.6945348  0.84411092 0.74376313 0.23217012 0.10023541\n",
            "   0.38248431 0.96864888 0.1702244  0.97019401]\n",
            "  [0.54624009 0.9089684  0.33145526 0.91956657 0.60152224 0.70675057\n",
            "   0.30592555 0.48625917 0.39141225 0.26193471]]\n",
            "\n",
            " [[0.77947444 0.69294344 0.34318192 0.93239051 0.91728457 0.13516801\n",
            "   0.32205388 0.13269442 0.95290453 0.81649668]\n",
            "  [0.52204275 0.6250654  0.70310932 0.43477244 0.24159567 0.50796228\n",
            "   0.7659751  0.86257263 0.5613681  0.30536471]]\n",
            "\n",
            " [[0.70251626 0.84494081 0.67552811 0.35367158 0.64192706 0.7272681\n",
            "   0.54615899 0.15025568 0.69904456 0.23571449]\n",
            "  [0.40990357 0.21076179 0.99070047 0.5594353  0.83540745 0.21257066\n",
            "   0.67283558 0.5496471  0.21598878 0.46221536]]\n",
            "\n",
            " [[0.67236078 0.01792501 0.66118908 0.52194503 0.84114352 0.50786758\n",
            "   0.2338654  0.89574472 0.79498338 0.89104022]\n",
            "  [0.53073809 0.49017831 0.00354889 0.65705286 0.72738059 0.48077848\n",
            "   0.54193648 0.92204801 0.98477032 0.79690531]]]\n"
          ],
          "name": "stdout"
        }
      ]
    },
    {
      "cell_type": "markdown",
      "metadata": {
        "id": "xR2zd-nkCani",
        "colab_type": "text"
      },
      "source": [
        "You have a matrix $X$ of size (10,5) filled with random values. Print the following :\n",
        "* Minimum value and index where it occured, for each column\n",
        "* Maximum value and the index where it occured, for each column\n",
        "* Minimum value and index where it occured, for each row\n",
        "* Maximum value and index where it occured, for each row\n",
        "* Minimum value and index where it occured, for the entire matrix\n",
        "* Maximum value and index where it occured, for the entire matrix"
      ]
    },
    {
      "cell_type": "code",
      "metadata": {
        "id": "FR2Wd4fWD_Og",
        "colab_type": "code",
        "colab": {
          "base_uri": "https://localhost:8080/",
          "height": 156
        },
        "outputId": "04df427f-1094-4cbf-8cc1-9caca30a3253"
      },
      "source": [
        "np.random.seed(0)\n",
        "X = np.random.rand(10,5)\n",
        "print(\"Minimum value: \",np.min(X,axis=1),\" index where it occured for each column: \",np.argmin(X,axis=1))\n",
        "print(\"Maximum value: \",np.max(X,axis=1),\" index where it occured for each column: \",np.argmax(X,axis=1))\n",
        "print(\"Minimum value: \",np.min(X,axis=0),\" index where it occured for each row: \",np.argmin(X,axis=0))\n",
        "print(\"Maximum value: \",np.max(X,axis=0),\" index where it occured for each row: \",np.argmax(X,axis=0))\n",
        "print(\"Minimum value: \",np.min(X),\" index where it occured for entire matrix: \",np.argmin(X))\n",
        "print(\"Maximum value: \",np.max(X),\" index where it occured for entire matrix: \",np.argmax(X))"
      ],
      "execution_count": 8,
      "outputs": [
        {
          "output_type": "stream",
          "text": [
            "Minimum value:  [0.4236548  0.38344152 0.07103606 0.0202184  0.11827443 0.14335329\n",
            " 0.0187898  0.61209572 0.06022547 0.1289263 ]  index where it occured for each column:  [4 4 4 1 4 1 4 1 3 2]\n",
            "Maximum value:  [0.71518937 0.96366276 0.92559664 0.87001215 0.97861834 0.94466892\n",
            " 0.77423369 0.94374808 0.6976312  0.67063787]  index where it occured for each column:  [1 3 3 4 0 2 1 3 2 0]\n",
            "Minimum value:  [0.0871293  0.0202184  0.1289263  0.06022547 0.0187898 ]  index where it occured for each row:  [3 3 9 8 6]\n",
            "Maximum value:  [0.97861834 0.79915856 0.94466892 0.96366276 0.87001215]  index where it occured for each row:  [4 4 5 1 3]\n",
            "Minimum value:  0.018789800436355142  index where it occured for entire matrix:  34\n",
            "Maximum value:  0.978618342232764  index where it occured for entire matrix:  20\n"
          ],
          "name": "stdout"
        }
      ]
    },
    {
      "cell_type": "markdown",
      "metadata": {
        "id": "YpjW2ypkEGtS",
        "colab_type": "text"
      },
      "source": [
        "Find and print the following for the matrix X: \n",
        "* Mean of each row and column\n",
        "* Standard deviation of each row and column\n",
        "* Mean of the entire matrix\n",
        "* Standard deviation of entire matrix"
      ]
    },
    {
      "cell_type": "code",
      "metadata": {
        "id": "gMdm2pw0GWjf",
        "colab_type": "code",
        "colab": {
          "base_uri": "https://localhost:8080/",
          "height": 141
        },
        "outputId": "5dde43bb-0aae-4e2b-fd0f-f6817130d2ef"
      },
      "source": [
        "print(\"Mean of each row: \",np.mean(X,axis=0) ,\"column: \",np.mean(X,axis=1))\n",
        "print(\"Standard deviation of each row: \",np.std(X,axis=0) ,\"Standard deviation: \",np.std(X,axis=1))\n",
        "print(\"Mean of the entire matrix: \",np.mean(X))\n",
        "print(\"Standard deviation of entire matrix: \",np.std(X))"
      ],
      "execution_count": 9,
      "outputs": [
        {
          "output_type": "stream",
          "text": [
            "Mean of each row:  [0.56044382 0.46781457 0.62009909 0.64025127 0.40121685] column:  [0.56706085 0.66447172 0.57705944 0.51762729 0.62761197 0.5328907\n",
            " 0.41643268 0.69444672 0.44423265 0.33781717]\n",
            "Standard deviation of each row:  [0.24687647 0.25752158 0.22948615 0.28054144 0.26584905] Standard deviation:  [0.09445299 0.23322986 0.29189733 0.38052993 0.30431633 0.26338419\n",
            " 0.25841437 0.12727959 0.23169975 0.18537332]\n",
            "Mean of the entire matrix:  0.5379651182755409\n",
            "Standard deviation of entire matrix:  0.27226582292177587\n"
          ],
          "name": "stdout"
        }
      ]
    },
    {
      "cell_type": "markdown",
      "metadata": {
        "id": "7dw7W8HOGXKA",
        "colab_type": "text"
      },
      "source": [
        "Let $Y$ denote a square matrix of size 10 with random values. Print the following:\n",
        "* Determinant\n",
        "* Rank of the matrix\n",
        "* Diagonal Elements\n",
        "* Trace\n",
        "* Eigen values\n",
        "* Matrices obtained after Singular Value Decomposition\n",
        "* Inverse if exists, otherwise Pseudo-Inverse\n",
        "* Multiplication $Y$ with $X$\n",
        "* Element-wise multiplication of $Y$ and its inverse(or pseudo-inverse)"
      ]
    },
    {
      "cell_type": "code",
      "metadata": {
        "id": "Tswbn9hgL7yi",
        "colab_type": "code",
        "colab": {
          "base_uri": "https://localhost:8080/",
          "height": 1000
        },
        "outputId": "abb28b5e-4280-4a96-941f-cc44061322c7"
      },
      "source": [
        "np.random.seed(3)\n",
        "Y = np.random.rand(10,10)\n",
        "print(\"Determinant: \",np.linalg.det(Y))\n",
        "print(\"Rank of the matrix: \",np.linalg.matrix_rank(Y))\n",
        "print(\"Diagonal Elements: \",np.diag(Y))\n",
        "print(\"Trace: \",np.trace(Y))\n",
        "eigen_val,eigen_vec = np.linalg.eigh(Y)\n",
        "print(\"Eigen values: \",eigen_val)\n",
        "print(\"Eigen vector: \",eigen_vec)\n",
        "P, D, Q  = np.linalg.svd(Y)\n",
        "print(P)\n",
        "print(D)\n",
        "print(Q)\n",
        "print(\"Inverse of matrix: \",np.linalg.inv(Y))\n",
        "# print(\"Multiplication Y with  X: \",np.multiply(Y,X))\n",
        "# print(\"Element-wise multiplication of  Y  and its inverse(or pseudo-inverse): \",np.linalg.pinv(Y))"
      ],
      "execution_count": 10,
      "outputs": [
        {
          "output_type": "stream",
          "text": [
            "Determinant:  -0.012807808169095483\n",
            "Rank of the matrix:  10\n",
            "Diagonal Elements:  [0.5507979  0.45683322 0.44045372 0.84575087 0.4576864  0.36217621\n",
            " 0.06152893 0.19897603 0.92672568 0.19638058]\n",
            "Trace:  4.497309545724899\n",
            "Eigen values:  [-1.08602833 -0.88885445 -0.72632217 -0.49191034 -0.1490077   0.39421149\n",
            "  0.60135873  0.70544085  1.06101091  5.07741055]\n",
            "Eigen vector:  [[ 0.48050851 -0.0200137   0.09671215  0.21489969  0.27207656  0.11903468\n",
            "   0.55058753  0.11410697 -0.4792787   0.28125769]\n",
            " [ 0.22507403  0.09534616  0.50359666  0.04711867  0.42595914  0.0779829\n",
            "  -0.59613823 -0.20935198  0.0517971   0.30823126]\n",
            " [ 0.42939264 -0.1055188  -0.39568634 -0.1191699  -0.37319443 -0.33907746\n",
            "  -0.42291808  0.17931374 -0.24386062  0.33013612]\n",
            " [-0.38372967 -0.26607376  0.26445327 -0.32024866 -0.19848103 -0.25094841\n",
            "   0.19065508 -0.46296983 -0.28403863  0.41919371]\n",
            " [ 0.04729593 -0.20563129 -0.05793031 -0.5819849  -0.0247571   0.65350918\n",
            "   0.03237518  0.25520356  0.19651542  0.2844891 ]\n",
            " [-0.0998037  -0.42660248  0.37028679  0.29938375 -0.10518532 -0.26480831\n",
            "   0.085106    0.54633199  0.36988773  0.23995959]\n",
            " [-0.1839631  -0.24276003 -0.57303384  0.04346957  0.6360141  -0.19627207\n",
            "   0.03617257 -0.10427891  0.21832234  0.2721836 ]\n",
            " [-0.45804593 -0.00675241 -0.16981381  0.53001459 -0.15078298  0.45229978\n",
            "  -0.24845536  0.08222329 -0.34223172  0.25975421]\n",
            " [ 0.2548055   0.18885063 -0.11271402  0.30570489 -0.35195323  0.13996254\n",
            "   0.20658324 -0.44524649  0.53431038  0.35125549]\n",
            " [-0.25701115  0.76789492  0.01251996 -0.1738956   0.05538018 -0.2047334\n",
            "   0.11071213  0.34230128  0.04186906  0.37111069]]\n",
            "[[-0.31776408 -0.02455508 -0.60644878 -0.17883359 -0.12672161  0.14873878\n",
            "  -0.17823942 -0.52859453 -0.02295855 -0.38570883]\n",
            " [-0.26118514 -0.10864541 -0.24911354  0.26547359  0.52168399 -0.25773901\n",
            "  -0.46995326  0.21752636 -0.39285046  0.16234491]\n",
            " [-0.31347907 -0.34483471 -0.25292297  0.1214296   0.1486964   0.33436315\n",
            "   0.54080229  0.48017168  0.05660692 -0.20966421]\n",
            " [-0.35815379  0.59490017  0.30255161  0.15850614 -0.11046295  0.3051409\n",
            "   0.07395537  0.03044889 -0.50561658 -0.18384856]\n",
            " [-0.28385845 -0.18085696 -0.1583078   0.10535533 -0.46807835 -0.08377643\n",
            "   0.24075452 -0.16170764 -0.24786952  0.69201648]\n",
            " [-0.28871348 -0.27577124  0.40271105  0.60433658  0.11931679 -0.04899205\n",
            "   0.02593316 -0.44875145  0.27874747 -0.12964796]\n",
            " [-0.27897316  0.00398904  0.20819753 -0.52536617  0.41116881 -0.41991923\n",
            "   0.42687225 -0.24145621 -0.12958507 -0.00984813]\n",
            " [-0.24788529  0.48136836 -0.15792433 -0.02303902  0.3246308   0.25755952\n",
            "  -0.01429533 -0.03088365  0.56052488  0.44079262]\n",
            " [-0.37505167 -0.36728578  0.39799373 -0.45186801 -0.10830044  0.34456765\n",
            "  -0.4447402   0.14147957  0.0716725   0.09192695]\n",
            " [-0.40049601  0.19846099 -0.02705464  0.02500837 -0.39745062 -0.57941613\n",
            "  -0.10288216  0.3673956   0.33321483 -0.22039139]]\n",
            "[4.89636645 1.42832104 1.17173389 0.94068764 0.76892251 0.62457278\n",
            " 0.52105948 0.28969576 0.24512275 0.09350223]\n",
            "[[-0.28816735 -0.35560525 -0.33294235 -0.33250662 -0.36658188 -0.3625847\n",
            "  -0.26573249 -0.23278667 -0.30457183 -0.29270444]\n",
            " [ 0.53693497  0.11306854  0.39562078  0.25099719 -0.07369559 -0.37753546\n",
            "  -0.08584363  0.00333609 -0.2399022  -0.51623983]\n",
            " [-0.084609   -0.22589744 -0.00306935  0.1954239  -0.327784   -0.49318928\n",
            "   0.42323124  0.18588504  0.58200169  0.02301787]\n",
            " [ 0.01388163 -0.2631197   0.42190391 -0.53612946  0.01058633 -0.04415909\n",
            "   0.29385139  0.49501812 -0.32731018  0.15669071]\n",
            " [-0.27340804  0.28220631  0.28945859 -0.1626885   0.14790418 -0.35915036\n",
            "  -0.64971879  0.23854611  0.29589227  0.1337842 ]\n",
            " [ 0.10830593  0.27974551 -0.20571161  0.10308827  0.10096026 -0.5325142\n",
            "   0.15994871 -0.16150892 -0.3941055   0.59692177]\n",
            " [ 0.44882085  0.34972045 -0.01773924 -0.50737391 -0.52251393  0.11970007\n",
            "  -0.02807841 -0.20137782  0.25705553  0.15409283]\n",
            " [-0.35599817 -0.05022624  0.63427946  0.20935183 -0.34847081  0.11510691\n",
            "   0.03182222 -0.47748403 -0.1161671   0.21777064]\n",
            " [ 0.18417681 -0.32168889  0.15954963 -0.32397524  0.5548368  -0.1807982\n",
            "   0.08626619 -0.55063636  0.28439362 -0.01119242]\n",
            " [-0.41560913  0.59522266  0.02089304 -0.23979844  0.13515565 -0.0893732\n",
            "   0.44674689 -0.10709455 -0.02239562 -0.42098815]]\n",
            "Inverse of matrix:  [[ 2.31470983 -1.92264991  0.7642126   0.78096977 -2.74248585  1.20175092\n",
            "   0.38693174 -1.37664514 -0.96484143  0.83123246]\n",
            " [-2.24504111  1.25605742 -0.91466223 -0.39587642  4.71823627 -1.32162185\n",
            "   0.52594984  2.39368168  0.33051878 -2.33540101]\n",
            " [-1.41290916  0.66149939  0.94968095 -0.18869248 -0.50069581 -0.55664939\n",
            "  -0.55275157  0.57384943 -0.04209635  1.11025544]\n",
            " [ 0.88051129  0.37055438  0.15632501  1.25248223 -1.81219563 -0.7249179\n",
            "  -0.19613524 -1.81766381  0.56943994  0.52226388]\n",
            " [ 0.39743656 -0.28842728 -1.09880632 -1.57965965  0.36480771  0.90235521\n",
            "  -0.47743451  2.09911148  0.53638288 -0.04562024]\n",
            " [ 0.36068175  0.22958502  0.33426258  0.10367281 -0.06700744 -0.37158555\n",
            "   0.22972702 -1.26286862 -0.45133033  0.75430018]\n",
            " [-2.01045364  0.19347423 -1.01393804 -0.74303568  3.56449935 -0.31892146\n",
            "  -0.67116163  2.01265699  0.72873355 -0.69454601]\n",
            " [ 1.18043988  0.86047396 -0.88991494  1.30425635 -0.14247318  0.69661973\n",
            "   0.5413572  -1.69774697 -0.60797727 -1.00698216]\n",
            " [-0.1679456  -0.63197036 -0.0540802  -0.73587818 -0.46423184  0.67805628\n",
            "   0.88551393  0.37662528 -0.03416891  0.42341327]\n",
            " [ 1.3938872  -0.74982353  1.96636643  1.00676681 -3.21953806  0.44078124\n",
            "  -0.40298654 -1.90114336 -0.04414834  0.55576763]]\n"
          ],
          "name": "stdout"
        }
      ]
    },
    {
      "cell_type": "markdown",
      "metadata": {
        "id": "Qne3RnfOL6-4",
        "colab_type": "text"
      },
      "source": [
        "## End of Part - 1\n",
        " --- --- ---"
      ]
    },
    {
      "cell_type": "markdown",
      "metadata": {
        "id": "LA-m4UYkMPTe",
        "colab_type": "text"
      },
      "source": [
        "## Part - 2\n",
        "---\n",
        "In this part, you will be working with the library ```pandas```. Import this library with an alias name ```pd```."
      ]
    },
    {
      "cell_type": "code",
      "metadata": {
        "id": "i8z7TpnZSIms",
        "colab_type": "code",
        "colab": {}
      },
      "source": [
        "# Initial imports\n",
        "import numpy as np\n",
        "import matplotlib.pyplot as plt\n",
        "import pandas as pd\n",
        "\n"
      ],
      "execution_count": 0,
      "outputs": []
    },
    {
      "cell_type": "markdown",
      "metadata": {
        "id": "2v-HkHnyuQ3X",
        "colab_type": "text"
      },
      "source": [
        "Download dataset from: http://biostat.mc.vanderbilt.edu/wiki/pub/Main/DataSets/titanic3.csv\n",
        "Read the data and display the first 5 rows"
      ]
    },
    {
      "cell_type": "code",
      "metadata": {
        "id": "LinX5ywNTUIm",
        "colab_type": "code",
        "colab": {
          "base_uri": "https://localhost:8080/",
          "height": 271
        },
        "outputId": "e76a4d70-3297-4821-e0d9-437df90f7e8f"
      },
      "source": [
        "#Download dataset from: http://biostat.mc.vanderbilt.edu/wiki/pub/Main/DataSets/titanic3.csv\n",
        "\n",
        "file_url = \"http://biostat.mc.vanderbilt.edu/wiki/pub/Main/DataSets/titanic3.csv\"\n",
        "df = pd.read_csv(file_url)\n",
        "df.head()"
      ],
      "execution_count": 12,
      "outputs": [
        {
          "output_type": "execute_result",
          "data": {
            "text/html": [
              "<div>\n",
              "<style scoped>\n",
              "    .dataframe tbody tr th:only-of-type {\n",
              "        vertical-align: middle;\n",
              "    }\n",
              "\n",
              "    .dataframe tbody tr th {\n",
              "        vertical-align: top;\n",
              "    }\n",
              "\n",
              "    .dataframe thead th {\n",
              "        text-align: right;\n",
              "    }\n",
              "</style>\n",
              "<table border=\"1\" class=\"dataframe\">\n",
              "  <thead>\n",
              "    <tr style=\"text-align: right;\">\n",
              "      <th></th>\n",
              "      <th>pclass</th>\n",
              "      <th>survived</th>\n",
              "      <th>name</th>\n",
              "      <th>sex</th>\n",
              "      <th>age</th>\n",
              "      <th>sibsp</th>\n",
              "      <th>parch</th>\n",
              "      <th>ticket</th>\n",
              "      <th>fare</th>\n",
              "      <th>cabin</th>\n",
              "      <th>embarked</th>\n",
              "      <th>boat</th>\n",
              "      <th>body</th>\n",
              "      <th>home.dest</th>\n",
              "    </tr>\n",
              "  </thead>\n",
              "  <tbody>\n",
              "    <tr>\n",
              "      <th>0</th>\n",
              "      <td>1</td>\n",
              "      <td>1</td>\n",
              "      <td>Allen, Miss. Elisabeth Walton</td>\n",
              "      <td>female</td>\n",
              "      <td>29.00</td>\n",
              "      <td>0</td>\n",
              "      <td>0</td>\n",
              "      <td>24160</td>\n",
              "      <td>211.3375</td>\n",
              "      <td>B5</td>\n",
              "      <td>S</td>\n",
              "      <td>2</td>\n",
              "      <td>NaN</td>\n",
              "      <td>St Louis, MO</td>\n",
              "    </tr>\n",
              "    <tr>\n",
              "      <th>1</th>\n",
              "      <td>1</td>\n",
              "      <td>1</td>\n",
              "      <td>Allison, Master. Hudson Trevor</td>\n",
              "      <td>male</td>\n",
              "      <td>0.92</td>\n",
              "      <td>1</td>\n",
              "      <td>2</td>\n",
              "      <td>113781</td>\n",
              "      <td>151.5500</td>\n",
              "      <td>C22 C26</td>\n",
              "      <td>S</td>\n",
              "      <td>11</td>\n",
              "      <td>NaN</td>\n",
              "      <td>Montreal, PQ / Chesterville, ON</td>\n",
              "    </tr>\n",
              "    <tr>\n",
              "      <th>2</th>\n",
              "      <td>1</td>\n",
              "      <td>0</td>\n",
              "      <td>Allison, Miss. Helen Loraine</td>\n",
              "      <td>female</td>\n",
              "      <td>2.00</td>\n",
              "      <td>1</td>\n",
              "      <td>2</td>\n",
              "      <td>113781</td>\n",
              "      <td>151.5500</td>\n",
              "      <td>C22 C26</td>\n",
              "      <td>S</td>\n",
              "      <td>NaN</td>\n",
              "      <td>NaN</td>\n",
              "      <td>Montreal, PQ / Chesterville, ON</td>\n",
              "    </tr>\n",
              "    <tr>\n",
              "      <th>3</th>\n",
              "      <td>1</td>\n",
              "      <td>0</td>\n",
              "      <td>Allison, Mr. Hudson Joshua Creighton</td>\n",
              "      <td>male</td>\n",
              "      <td>30.00</td>\n",
              "      <td>1</td>\n",
              "      <td>2</td>\n",
              "      <td>113781</td>\n",
              "      <td>151.5500</td>\n",
              "      <td>C22 C26</td>\n",
              "      <td>S</td>\n",
              "      <td>NaN</td>\n",
              "      <td>135.0</td>\n",
              "      <td>Montreal, PQ / Chesterville, ON</td>\n",
              "    </tr>\n",
              "    <tr>\n",
              "      <th>4</th>\n",
              "      <td>1</td>\n",
              "      <td>0</td>\n",
              "      <td>Allison, Mrs. Hudson J C (Bessie Waldo Daniels)</td>\n",
              "      <td>female</td>\n",
              "      <td>25.00</td>\n",
              "      <td>1</td>\n",
              "      <td>2</td>\n",
              "      <td>113781</td>\n",
              "      <td>151.5500</td>\n",
              "      <td>C22 C26</td>\n",
              "      <td>S</td>\n",
              "      <td>NaN</td>\n",
              "      <td>NaN</td>\n",
              "      <td>Montreal, PQ / Chesterville, ON</td>\n",
              "    </tr>\n",
              "  </tbody>\n",
              "</table>\n",
              "</div>"
            ],
            "text/plain": [
              "   pclass  survived  ...   body                        home.dest\n",
              "0       1         1  ...    NaN                     St Louis, MO\n",
              "1       1         1  ...    NaN  Montreal, PQ / Chesterville, ON\n",
              "2       1         0  ...    NaN  Montreal, PQ / Chesterville, ON\n",
              "3       1         0  ...  135.0  Montreal, PQ / Chesterville, ON\n",
              "4       1         0  ...    NaN  Montreal, PQ / Chesterville, ON\n",
              "\n",
              "[5 rows x 14 columns]"
            ]
          },
          "metadata": {
            "tags": []
          },
          "execution_count": 12
        }
      ]
    },
    {
      "cell_type": "markdown",
      "metadata": {
        "id": "vTk1-mF5WYFN",
        "colab_type": "text"
      },
      "source": [
        "### Preprocessing of the Dataset"
      ]
    },
    {
      "cell_type": "markdown",
      "metadata": {
        "id": "kx9UrI9WWt17",
        "colab_type": "text"
      },
      "source": [
        "\n",
        "\n",
        "---\n",
        "\n",
        "\n",
        "**1. Convert the categorical values of columns 'sex', 'embarked', 'pclass' into dummy values and add them into titanic_data_new DataFrame**\n",
        "\n",
        "\n",
        "\n",
        "\n",
        "---\n",
        "\n"
      ]
    },
    {
      "cell_type": "code",
      "metadata": {
        "id": "AwDh9njbZ0QU",
        "colab_type": "code",
        "colab": {
          "base_uri": "https://localhost:8080/",
          "height": 534
        },
        "outputId": "ff3cf8d1-ae1f-4035-f26c-3ea4aecdffa3"
      },
      "source": [
        "\n",
        "df[\"pclass\"].value_counts()\n",
        "df_sex = pd.get_dummies(df[\"sex\"],prefix='sex',prefix_sep='_')\n",
        "df_pclass = pd.get_dummies(df[\"pclass\"],prefix='pclass',prefix_sep='_')\n",
        "df_embarked = pd.get_dummies(df[\"embarked\"],prefix='embarked',prefix_sep='_')\n",
        "df_1 = pd.concat([df,df_sex],axis=1)\n",
        "df_2 = pd.concat([df_1,df_pclass],axis=1)\n",
        "df_3 = pd.concat([df_2,df_embarked],axis=1)\n",
        "df_3.head()\n",
        "df = df_3.drop(columns=[\"sex\",\"pclass\",\"embarked\"],axis=1)\n",
        "df.head()"
      ],
      "execution_count": 13,
      "outputs": [
        {
          "output_type": "execute_result",
          "data": {
            "text/html": [
              "<div>\n",
              "<style scoped>\n",
              "    .dataframe tbody tr th:only-of-type {\n",
              "        vertical-align: middle;\n",
              "    }\n",
              "\n",
              "    .dataframe tbody tr th {\n",
              "        vertical-align: top;\n",
              "    }\n",
              "\n",
              "    .dataframe thead th {\n",
              "        text-align: right;\n",
              "    }\n",
              "</style>\n",
              "<table border=\"1\" class=\"dataframe\">\n",
              "  <thead>\n",
              "    <tr style=\"text-align: right;\">\n",
              "      <th></th>\n",
              "      <th>survived</th>\n",
              "      <th>name</th>\n",
              "      <th>age</th>\n",
              "      <th>sibsp</th>\n",
              "      <th>parch</th>\n",
              "      <th>ticket</th>\n",
              "      <th>fare</th>\n",
              "      <th>cabin</th>\n",
              "      <th>boat</th>\n",
              "      <th>body</th>\n",
              "      <th>home.dest</th>\n",
              "      <th>sex_female</th>\n",
              "      <th>sex_male</th>\n",
              "      <th>pclass_1</th>\n",
              "      <th>pclass_2</th>\n",
              "      <th>pclass_3</th>\n",
              "      <th>embarked_C</th>\n",
              "      <th>embarked_Q</th>\n",
              "      <th>embarked_S</th>\n",
              "    </tr>\n",
              "  </thead>\n",
              "  <tbody>\n",
              "    <tr>\n",
              "      <th>0</th>\n",
              "      <td>1</td>\n",
              "      <td>Allen, Miss. Elisabeth Walton</td>\n",
              "      <td>29.00</td>\n",
              "      <td>0</td>\n",
              "      <td>0</td>\n",
              "      <td>24160</td>\n",
              "      <td>211.3375</td>\n",
              "      <td>B5</td>\n",
              "      <td>2</td>\n",
              "      <td>NaN</td>\n",
              "      <td>St Louis, MO</td>\n",
              "      <td>1</td>\n",
              "      <td>0</td>\n",
              "      <td>1</td>\n",
              "      <td>0</td>\n",
              "      <td>0</td>\n",
              "      <td>0</td>\n",
              "      <td>0</td>\n",
              "      <td>1</td>\n",
              "    </tr>\n",
              "    <tr>\n",
              "      <th>1</th>\n",
              "      <td>1</td>\n",
              "      <td>Allison, Master. Hudson Trevor</td>\n",
              "      <td>0.92</td>\n",
              "      <td>1</td>\n",
              "      <td>2</td>\n",
              "      <td>113781</td>\n",
              "      <td>151.5500</td>\n",
              "      <td>C22 C26</td>\n",
              "      <td>11</td>\n",
              "      <td>NaN</td>\n",
              "      <td>Montreal, PQ / Chesterville, ON</td>\n",
              "      <td>0</td>\n",
              "      <td>1</td>\n",
              "      <td>1</td>\n",
              "      <td>0</td>\n",
              "      <td>0</td>\n",
              "      <td>0</td>\n",
              "      <td>0</td>\n",
              "      <td>1</td>\n",
              "    </tr>\n",
              "    <tr>\n",
              "      <th>2</th>\n",
              "      <td>0</td>\n",
              "      <td>Allison, Miss. Helen Loraine</td>\n",
              "      <td>2.00</td>\n",
              "      <td>1</td>\n",
              "      <td>2</td>\n",
              "      <td>113781</td>\n",
              "      <td>151.5500</td>\n",
              "      <td>C22 C26</td>\n",
              "      <td>NaN</td>\n",
              "      <td>NaN</td>\n",
              "      <td>Montreal, PQ / Chesterville, ON</td>\n",
              "      <td>1</td>\n",
              "      <td>0</td>\n",
              "      <td>1</td>\n",
              "      <td>0</td>\n",
              "      <td>0</td>\n",
              "      <td>0</td>\n",
              "      <td>0</td>\n",
              "      <td>1</td>\n",
              "    </tr>\n",
              "    <tr>\n",
              "      <th>3</th>\n",
              "      <td>0</td>\n",
              "      <td>Allison, Mr. Hudson Joshua Creighton</td>\n",
              "      <td>30.00</td>\n",
              "      <td>1</td>\n",
              "      <td>2</td>\n",
              "      <td>113781</td>\n",
              "      <td>151.5500</td>\n",
              "      <td>C22 C26</td>\n",
              "      <td>NaN</td>\n",
              "      <td>135.0</td>\n",
              "      <td>Montreal, PQ / Chesterville, ON</td>\n",
              "      <td>0</td>\n",
              "      <td>1</td>\n",
              "      <td>1</td>\n",
              "      <td>0</td>\n",
              "      <td>0</td>\n",
              "      <td>0</td>\n",
              "      <td>0</td>\n",
              "      <td>1</td>\n",
              "    </tr>\n",
              "    <tr>\n",
              "      <th>4</th>\n",
              "      <td>0</td>\n",
              "      <td>Allison, Mrs. Hudson J C (Bessie Waldo Daniels)</td>\n",
              "      <td>25.00</td>\n",
              "      <td>1</td>\n",
              "      <td>2</td>\n",
              "      <td>113781</td>\n",
              "      <td>151.5500</td>\n",
              "      <td>C22 C26</td>\n",
              "      <td>NaN</td>\n",
              "      <td>NaN</td>\n",
              "      <td>Montreal, PQ / Chesterville, ON</td>\n",
              "      <td>1</td>\n",
              "      <td>0</td>\n",
              "      <td>1</td>\n",
              "      <td>0</td>\n",
              "      <td>0</td>\n",
              "      <td>0</td>\n",
              "      <td>0</td>\n",
              "      <td>1</td>\n",
              "    </tr>\n",
              "  </tbody>\n",
              "</table>\n",
              "</div>"
            ],
            "text/plain": [
              "   survived  ... embarked_S\n",
              "0         1  ...          1\n",
              "1         1  ...          1\n",
              "2         0  ...          1\n",
              "3         0  ...          1\n",
              "4         0  ...          1\n",
              "\n",
              "[5 rows x 19 columns]"
            ]
          },
          "metadata": {
            "tags": []
          },
          "execution_count": 13
        }
      ]
    },
    {
      "cell_type": "markdown",
      "metadata": {
        "id": "Z9bxOfzDbY-n",
        "colab_type": "text"
      },
      "source": [
        "\n",
        "\n",
        "---\n",
        "\n",
        "\n",
        "**2. Fill the missing data in Age and Fare columns with the mean value of the respected column then add these columns to titanic_data_new**\n",
        "\n",
        "\n",
        "---\n",
        "\n"
      ]
    },
    {
      "cell_type": "code",
      "metadata": {
        "id": "DNx7Pr0ehhAs",
        "colab_type": "code",
        "colab": {
          "base_uri": "https://localhost:8080/",
          "height": 87
        },
        "outputId": "de42a35e-f871-4c0d-80f9-744391047075"
      },
      "source": [
        "print(df[\"age\"].isnull().sum())\n",
        "df[\"age\"].fillna(value=np.mean(df[\"age\"]),inplace=True)\n",
        "df[\"fare\"].fillna(value=np.mean(df[\"fare\"]),inplace=True)\n",
        "print(df[[\"age\",\"fare\"]].isnull().sum())"
      ],
      "execution_count": 14,
      "outputs": [
        {
          "output_type": "stream",
          "text": [
            "263\n",
            "age     0\n",
            "fare    0\n",
            "dtype: int64\n"
          ],
          "name": "stdout"
        }
      ]
    },
    {
      "cell_type": "markdown",
      "metadata": {
        "id": "SlRzKfhxkd1M",
        "colab_type": "text"
      },
      "source": [
        "###Normalization\n",
        "\n",
        "\n",
        "---\n",
        "\n",
        "\n",
        "\n",
        "1. Normalize the columns which have numerical data\n",
        "\n",
        "\n",
        "\n",
        "---\n",
        "\n"
      ]
    },
    {
      "cell_type": "code",
      "metadata": {
        "id": "Y3hpu92TlM38",
        "colab_type": "code",
        "colab": {
          "base_uri": "https://localhost:8080/",
          "height": 139
        },
        "outputId": "ef08df95-bb02-47e8-a307-e6c3f8ee72b8"
      },
      "source": [
        "from sklearn.preprocessing import StandardScaler\n",
        "standard_scaler = StandardScaler()\n",
        "scaled_features = standard_scaler.fit_transform(df[[\"age\",'fare']])\n",
        "scaled_features"
      ],
      "execution_count": 15,
      "outputs": [
        {
          "output_type": "execute_result",
          "data": {
            "text/plain": [
              "array([[-0.06842049,  3.4424802 ],\n",
              "       [-2.24883736,  2.28647622],\n",
              "       [-2.16497518,  2.28647622],\n",
              "       ...,\n",
              "       [-0.26254593, -0.50407824],\n",
              "       [-0.22372084, -0.50407824],\n",
              "       [-0.06842049, -0.49151035]])"
            ]
          },
          "metadata": {
            "tags": []
          },
          "execution_count": 15
        }
      ]
    },
    {
      "cell_type": "markdown",
      "metadata": {
        "id": "wB9-5x83mFAO",
        "colab_type": "text"
      },
      "source": [
        "\n",
        "\n",
        "---\n",
        "2. Drop the original age, fare columns\n",
        "3. Append the normalized columns to the titanic_data_new DataFrame.\n",
        "\n",
        "\n",
        "\n",
        "---\n",
        "\n"
      ]
    },
    {
      "cell_type": "code",
      "metadata": {
        "id": "Kb00kM0onQJy",
        "colab_type": "code",
        "colab": {
          "base_uri": "https://localhost:8080/",
          "height": 534
        },
        "outputId": "c2a2b629-98e6-4350-9236-9edb93215ef4"
      },
      "source": [
        "scaled_df = pd.DataFrame(scaled_features,columns=[\"age_norm\",\"fare_norm\"])\n",
        "scaled_df\n",
        "df.drop(columns=[\"age\",\"fare\"],inplace=True)\n",
        "df = pd.concat([df,scaled_df],axis=1)\n",
        "df.head()"
      ],
      "execution_count": 16,
      "outputs": [
        {
          "output_type": "execute_result",
          "data": {
            "text/html": [
              "<div>\n",
              "<style scoped>\n",
              "    .dataframe tbody tr th:only-of-type {\n",
              "        vertical-align: middle;\n",
              "    }\n",
              "\n",
              "    .dataframe tbody tr th {\n",
              "        vertical-align: top;\n",
              "    }\n",
              "\n",
              "    .dataframe thead th {\n",
              "        text-align: right;\n",
              "    }\n",
              "</style>\n",
              "<table border=\"1\" class=\"dataframe\">\n",
              "  <thead>\n",
              "    <tr style=\"text-align: right;\">\n",
              "      <th></th>\n",
              "      <th>survived</th>\n",
              "      <th>name</th>\n",
              "      <th>sibsp</th>\n",
              "      <th>parch</th>\n",
              "      <th>ticket</th>\n",
              "      <th>cabin</th>\n",
              "      <th>boat</th>\n",
              "      <th>body</th>\n",
              "      <th>home.dest</th>\n",
              "      <th>sex_female</th>\n",
              "      <th>sex_male</th>\n",
              "      <th>pclass_1</th>\n",
              "      <th>pclass_2</th>\n",
              "      <th>pclass_3</th>\n",
              "      <th>embarked_C</th>\n",
              "      <th>embarked_Q</th>\n",
              "      <th>embarked_S</th>\n",
              "      <th>age_norm</th>\n",
              "      <th>fare_norm</th>\n",
              "    </tr>\n",
              "  </thead>\n",
              "  <tbody>\n",
              "    <tr>\n",
              "      <th>0</th>\n",
              "      <td>1</td>\n",
              "      <td>Allen, Miss. Elisabeth Walton</td>\n",
              "      <td>0</td>\n",
              "      <td>0</td>\n",
              "      <td>24160</td>\n",
              "      <td>B5</td>\n",
              "      <td>2</td>\n",
              "      <td>NaN</td>\n",
              "      <td>St Louis, MO</td>\n",
              "      <td>1</td>\n",
              "      <td>0</td>\n",
              "      <td>1</td>\n",
              "      <td>0</td>\n",
              "      <td>0</td>\n",
              "      <td>0</td>\n",
              "      <td>0</td>\n",
              "      <td>1</td>\n",
              "      <td>-0.068420</td>\n",
              "      <td>3.442480</td>\n",
              "    </tr>\n",
              "    <tr>\n",
              "      <th>1</th>\n",
              "      <td>1</td>\n",
              "      <td>Allison, Master. Hudson Trevor</td>\n",
              "      <td>1</td>\n",
              "      <td>2</td>\n",
              "      <td>113781</td>\n",
              "      <td>C22 C26</td>\n",
              "      <td>11</td>\n",
              "      <td>NaN</td>\n",
              "      <td>Montreal, PQ / Chesterville, ON</td>\n",
              "      <td>0</td>\n",
              "      <td>1</td>\n",
              "      <td>1</td>\n",
              "      <td>0</td>\n",
              "      <td>0</td>\n",
              "      <td>0</td>\n",
              "      <td>0</td>\n",
              "      <td>1</td>\n",
              "      <td>-2.248837</td>\n",
              "      <td>2.286476</td>\n",
              "    </tr>\n",
              "    <tr>\n",
              "      <th>2</th>\n",
              "      <td>0</td>\n",
              "      <td>Allison, Miss. Helen Loraine</td>\n",
              "      <td>1</td>\n",
              "      <td>2</td>\n",
              "      <td>113781</td>\n",
              "      <td>C22 C26</td>\n",
              "      <td>NaN</td>\n",
              "      <td>NaN</td>\n",
              "      <td>Montreal, PQ / Chesterville, ON</td>\n",
              "      <td>1</td>\n",
              "      <td>0</td>\n",
              "      <td>1</td>\n",
              "      <td>0</td>\n",
              "      <td>0</td>\n",
              "      <td>0</td>\n",
              "      <td>0</td>\n",
              "      <td>1</td>\n",
              "      <td>-2.164975</td>\n",
              "      <td>2.286476</td>\n",
              "    </tr>\n",
              "    <tr>\n",
              "      <th>3</th>\n",
              "      <td>0</td>\n",
              "      <td>Allison, Mr. Hudson Joshua Creighton</td>\n",
              "      <td>1</td>\n",
              "      <td>2</td>\n",
              "      <td>113781</td>\n",
              "      <td>C22 C26</td>\n",
              "      <td>NaN</td>\n",
              "      <td>135.0</td>\n",
              "      <td>Montreal, PQ / Chesterville, ON</td>\n",
              "      <td>0</td>\n",
              "      <td>1</td>\n",
              "      <td>1</td>\n",
              "      <td>0</td>\n",
              "      <td>0</td>\n",
              "      <td>0</td>\n",
              "      <td>0</td>\n",
              "      <td>1</td>\n",
              "      <td>0.009230</td>\n",
              "      <td>2.286476</td>\n",
              "    </tr>\n",
              "    <tr>\n",
              "      <th>4</th>\n",
              "      <td>0</td>\n",
              "      <td>Allison, Mrs. Hudson J C (Bessie Waldo Daniels)</td>\n",
              "      <td>1</td>\n",
              "      <td>2</td>\n",
              "      <td>113781</td>\n",
              "      <td>C22 C26</td>\n",
              "      <td>NaN</td>\n",
              "      <td>NaN</td>\n",
              "      <td>Montreal, PQ / Chesterville, ON</td>\n",
              "      <td>1</td>\n",
              "      <td>0</td>\n",
              "      <td>1</td>\n",
              "      <td>0</td>\n",
              "      <td>0</td>\n",
              "      <td>0</td>\n",
              "      <td>0</td>\n",
              "      <td>1</td>\n",
              "      <td>-0.379021</td>\n",
              "      <td>2.286476</td>\n",
              "    </tr>\n",
              "  </tbody>\n",
              "</table>\n",
              "</div>"
            ],
            "text/plain": [
              "   survived  ... fare_norm\n",
              "0         1  ...  3.442480\n",
              "1         1  ...  2.286476\n",
              "2         0  ...  2.286476\n",
              "3         0  ...  2.286476\n",
              "4         0  ...  2.286476\n",
              "\n",
              "[5 rows x 19 columns]"
            ]
          },
          "metadata": {
            "tags": []
          },
          "execution_count": 16
        }
      ]
    },
    {
      "cell_type": "markdown",
      "metadata": {
        "id": "uLxN3PozntKe",
        "colab_type": "text"
      },
      "source": [
        "###Plotting\n",
        "1. plot the age against the ID(continuous)\n",
        "2. plot the fare against the ID(scatter)"
      ]
    },
    {
      "cell_type": "code",
      "metadata": {
        "id": "LdSfNEKYn_RO",
        "colab_type": "code",
        "colab": {
          "base_uri": "https://localhost:8080/",
          "height": 597
        },
        "outputId": "af07dc22-ddd3-4a62-a36d-f1cc36acce8b"
      },
      "source": [
        "import matplotlib.pyplot as plt\n",
        "import seaborn as sns\n",
        "sns.scatterplot(x=\"age_norm\",y=\"sibsp\",data=df)\n",
        "plt.show()\n",
        "sns.scatterplot(x=\"fare_norm\",y=\"sibsp\",data=df)\n",
        "plt.show()"
      ],
      "execution_count": 17,
      "outputs": [
        {
          "output_type": "stream",
          "text": [
            "/usr/local/lib/python3.6/dist-packages/statsmodels/tools/_testing.py:19: FutureWarning: pandas.util.testing is deprecated. Use the functions in the public API at pandas.testing instead.\n",
            "  import pandas.util.testing as tm\n"
          ],
          "name": "stderr"
        },
        {
          "output_type": "display_data",
          "data": {
            "image/png": "[encoded data removed]",
            "text/plain": [
              "<Figure size 432x288 with 1 Axes>"
            ]
          },
          "metadata": {
            "tags": [],
            "needs_background": "light"
          }
        },
        {
          "output_type": "display_data",
          "data": {
            "image/png": "[encoded data removed]",
            "text/plain": [
              "<Figure size 432x288 with 1 Axes>"
            ]
          },
          "metadata": {
            "tags": [],
            "needs_background": "light"
          }
        }
      ]
    },
    {
      "cell_type": "markdown",
      "metadata": {
        "id": "LQr7y6eevTvy",
        "colab_type": "text"
      },
      "source": [
        "## End of Part - 2\n",
        "---"
      ]
    },
    {
      "cell_type": "markdown",
      "metadata": {
        "id": "TWhZcKvfvW2B",
        "colab_type": "text"
      },
      "source": [
        "## Part - 3\n",
        "---"
      ]
    },
    {
      "cell_type": "markdown",
      "metadata": {
        "id": "8bY4H9DszQ2S",
        "colab_type": "text"
      },
      "source": [
        "In this part, you will work with the library ```matplotlib```. Import the ```pyplot``` from ```matplotlib``` with an alias name ```plt```."
      ]
    },
    {
      "cell_type": "code",
      "metadata": {
        "id": "hPN6qctRzknT",
        "colab_type": "code",
        "colab": {}
      },
      "source": [
        "import matplotlib.pyplot as plt\n"
      ],
      "execution_count": 0,
      "outputs": []
    },
    {
      "cell_type": "markdown",
      "metadata": {
        "id": "fQ6KX_Aezlub",
        "colab_type": "text"
      },
      "source": [
        "Plot the sine function with domain in $[-3\\pi,3\\pi]$. Label the axes appropriately. Add title $\\sin(x)$. Use latex formatting while adding the title. Set the plot size to (10,10)"
      ]
    },
    {
      "cell_type": "code",
      "metadata": {
        "id": "0tA3J5mA1cQ0",
        "colab_type": "code",
        "colab": {
          "base_uri": "https://localhost:8080/",
          "height": 630
        },
        "outputId": "b07f1fd0-e6a0-4a50-aed9-c411f133d265"
      },
      "source": [
        "x = np.arange(-3*np.pi,3*np.pi,0.1)   # start,stop,step\n",
        "y = np.sin(x)\n",
        "plt.figure(figsize =(10,10))\n",
        "ax = plt.plot(x, y)\n",
        "plt.xlabel(r'$\\pi$', fontsize=18)\n",
        "plt.ylabel(r'$y$', fontsize=18)\n",
        "plt.title(\"Range [−3π,3π]\")\n",
        "plt.show()"
      ],
      "execution_count": 19,
      "outputs": [
        {
          "output_type": "display_data",
          "data": {
            "image/png": "[encoded data removed]",
            "text/plain": [
              "<Figure size 720x720 with 1 Axes>"
            ]
          },
          "metadata": {
            "tags": [],
            "needs_background": "light"
          }
        }
      ]
    },
    {
      "cell_type": "markdown",
      "metadata": {
        "id": "6KV7RqMm1d8P",
        "colab_type": "text"
      },
      "source": [
        "Plot $\\sin(x)$ and its spectrum, $\\cos(x)$ and its spectrum in a single plot, in the domain $[-2\\pi,2\\pi]$. Label the plot appropriately."
      ]
    },
    {
      "cell_type": "code",
      "metadata": {
        "id": "-OJuY0HO12Oo",
        "colab_type": "code",
        "colab": {
          "base_uri": "https://localhost:8080/",
          "height": 630
        },
        "outputId": "6a72d926-d568-4ecd-fa91-d0ae0bf6f7ed"
      },
      "source": [
        "x = np.arange(-2*np.pi,2*np.pi,0.11)   # start,stop,step\n",
        "y = np.sin(x)\n",
        "z = np.cos(x)\n",
        "plt.figure(figsize =(10,10))\n",
        "plt.plot(x, y,label=\"sin\")\n",
        "plt.plot(x,z,label=\"cos\")\n",
        "plt.xlabel(r'$\\pi$', fontsize=18)\n",
        "plt.ylabel(r'$y$', fontsize=18)\n",
        "plt.title(\"Range [−2π,2π]\")\n",
        "plt.legend()\n",
        "plt.show()"
      ],
      "execution_count": 20,
      "outputs": [
        {
          "output_type": "display_data",
          "data": {
            "image/png": "[encoded data removed]",
            "text/plain": [
              "<Figure size 720x720 with 1 Axes>"
            ]
          },
          "metadata": {
            "tags": [],
            "needs_background": "light"
          }
        }
      ]
    },
    {
      "cell_type": "markdown",
      "metadata": {
        "id": "1S6ZRm6B18ZF",
        "colab_type": "text"
      },
      "source": [
        "## End of Part - 3\n",
        "---"
      ]
    },
    {
      "cell_type": "markdown",
      "metadata": {
        "id": "MUucpzXBl096",
        "colab_type": "text"
      },
      "source": [
        "Create a Github repository with the name ***SHALA2020*** and save this assignment there."
      ]
    }
  ]
}