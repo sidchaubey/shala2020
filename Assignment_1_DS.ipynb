{
  "nbformat": 4,
  "nbformat_minor": 0,
  "metadata": {
    "colab": {
      "name": "Assignment -1 - DS.ipynb",
      "provenance": [],
      "collapsed_sections": [],
      "include_colab_link": true
    },
    "kernelspec": {
      "name": "python3",
      "display_name": "Python 3"
    }
  },
  "cells": [
    {
      "cell_type": "markdown",
      "metadata": {
        "id": "view-in-github",
        "colab_type": "text"
      },
      "source": [
        "<a href=\"https://colab.research.google.com/github/sidchaubey/shala2020/blob/master/Assignment_1_DS.ipynb\" target=\"_parent\"><img src=\"https://colab.research.google.com/assets/colab-badge.svg\" alt=\"Open In Colab\"/></a>"
      ]
    },
    {
      "cell_type": "markdown",
      "metadata": {
        "id": "hmr2U-GChnlR",
        "colab_type": "text"
      },
      "source": [
        "\n",
        "# **Assignment - 1 : Getting Started**\n",
        "\n",
        "---\n",
        "\n",
        "This assignment will get you familiarized with python libraries required for ***data science*** and ***machine learning***. You will have to complete the code snippets and run them. "
      ]
    },
    {
      "cell_type": "markdown",
      "metadata": {
        "id": "211pD45xEO0u",
        "colab_type": "text"
      },
      "source": [
        "## **Note :**   Use only the methods and attributes of the ```numpy``` library. **Do not** hard-code them. Avoid loops as much as possible."
      ]
    },
    {
      "cell_type": "markdown",
      "metadata": {
        "id": "O7v9C4mun3SQ",
        "colab_type": "text"
      },
      "source": [
        "---\n",
        "## Part - 1\n",
        " In this part, you will work with the library ```numpy```. \n",
        "\n",
        "\n"
      ]
    },
    {
      "cell_type": "markdown",
      "metadata": {
        "id": "846yDaXQwiMD",
        "colab_type": "text"
      },
      "source": [
        "Import ```numpy``` with an alias name ```np```. Initialize two arrays $a$, $b$ of size $3 \\times 5$ with random values and print them. "
      ]
    },
    {
      "cell_type": "code",
      "metadata": {
        "id": "_MyeCO3_o3oq",
        "colab_type": "code",
        "colab": {
          "base_uri": "https://localhost:8080/",
          "height": 121
        },
        "outputId": "5062289d-6341-484e-f847-c25c034f92aa"
      },
      "source": [
        "import numpy as np\n",
        "a = np.random.random(15).reshape(3,5)\n",
        "b = np.random.rand(3,5)\n",
        "print(\"a: \",a)\n",
        "print(\"b: \",b)"
      ],
      "execution_count": 7,
      "outputs": [
        {
          "output_type": "stream",
          "text": [
            "a:  [[0.07588371 0.30936592 0.5447064  0.7907216  0.47831772]\n",
            " [0.09046927 0.48991051 0.25629995 0.13054266 0.50867191]\n",
            " [0.86964587 0.14266827 0.93980354 0.7810907  0.17253656]]\n",
            "b:  [[0.44764817 0.7842194  0.71151223 0.32558661 0.6291883 ]\n",
            " [0.46178275 0.34224185 0.90838097 0.16153885 0.33418353]\n",
            " [0.26084818 0.4284362  0.98437114 0.91861458 0.97773696]]\n"
          ],
          "name": "stdout"
        }
      ]
    },
    {
      "cell_type": "markdown",
      "metadata": {
        "id": "p7jtpYT4wiO6",
        "colab_type": "text"
      },
      "source": [
        "Initialize and print two arrays $c$ and $d$ having the following properties:\n",
        "*   $c$ is a row vector with all non-negative integer values less than 100\n",
        "* $d$ is a square matrix of size 3 having all entries as 0.0"
      ]
    },
    {
      "cell_type": "code",
      "metadata": {
        "id": "a2lJdRf8x9f2",
        "colab_type": "code",
        "colab": {
          "base_uri": "https://localhost:8080/",
          "height": 87
        },
        "outputId": "1e2b28cf-7a46-44b1-edb5-d961bffa6fd7"
      },
      "source": [
        "c = np.random.randint(1,100,10)\n",
        "d = np.random.randint(1,100,9).reshape(3,3)\n",
        "print(\"c: \",c)\n",
        "print(\"d: \",d)\n",
        "\n"
      ],
      "execution_count": 9,
      "outputs": [
        {
          "output_type": "stream",
          "text": [
            "c:  [32 63 90 89 66 10 25 53 39 88]\n",
            "d:  [[87 11 92]\n",
            " [29 96 10]\n",
            " [88 40 23]]\n"
          ],
          "name": "stdout"
        }
      ]
    },
    {
      "cell_type": "markdown",
      "metadata": {
        "id": "qqgtSsa88Zmh",
        "colab_type": "text"
      },
      "source": [
        "We have $e$ as following : ```e = [[1,2,3],[4,5,6],[7,8,9]]```. Change $e$ as a numpy array and print it."
      ]
    },
    {
      "cell_type": "code",
      "metadata": {
        "id": "Krhm4bVE7RET",
        "colab_type": "code",
        "colab": {
          "base_uri": "https://localhost:8080/",
          "height": 35
        },
        "outputId": "e0347482-12dd-4d93-a037-87e2fa497cef"
      },
      "source": [
        "e = [[1,2,3],[4,5,6],[7,8,9]]\n",
        "e = np.array(e)\n",
        "print(type(e))\n"
      ],
      "execution_count": 10,
      "outputs": [
        {
          "output_type": "stream",
          "text": [
            "<class 'numpy.ndarray'>\n"
          ],
          "name": "stdout"
        }
      ]
    },
    {
      "cell_type": "markdown",
      "metadata": {
        "id": "1qTikI0foam9",
        "colab_type": "text"
      },
      "source": [
        "$f$ and $g$ are two square matrices of size 5 such that all the entries of $f$ are 1 and $g$ is an identity matrix. Initialize them and print them"
      ]
    },
    {
      "cell_type": "code",
      "metadata": {
        "id": "DvaLckI49aBV",
        "colab_type": "code",
        "colab": {
          "base_uri": "https://localhost:8080/",
          "height": 191
        },
        "outputId": "41bb02fd-9f2f-4b03-d35a-6cbbd36a3c22"
      },
      "source": [
        "f = np.ones((5,5))\n",
        "print(f)\n",
        "g = np.eye(5,5)\n",
        "print(\"g: \",g)"
      ],
      "execution_count": 15,
      "outputs": [
        {
          "output_type": "stream",
          "text": [
            "[[1. 1. 1. 1. 1.]\n",
            " [1. 1. 1. 1. 1.]\n",
            " [1. 1. 1. 1. 1.]\n",
            " [1. 1. 1. 1. 1.]\n",
            " [1. 1. 1. 1. 1.]]\n",
            "g:  [[1. 0. 0. 0. 0.]\n",
            " [0. 1. 0. 0. 0.]\n",
            " [0. 0. 1. 0. 0.]\n",
            " [0. 0. 0. 1. 0.]\n",
            " [0. 0. 0. 0. 1.]]\n"
          ],
          "name": "stdout"
        }
      ]
    },
    {
      "cell_type": "markdown",
      "metadata": {
        "id": "gcBZAZibAKcg",
        "colab_type": "text"
      },
      "source": [
        "Reshape $c$ into a $10 \\times 10$ matrix and name it $h$. Now flatten $h$, call it $c^\\prime$ and print **YES** when the shapes of $c$ and $c^\\prime$ are same. Otherwise print **NO**."
      ]
    },
    {
      "cell_type": "code",
      "metadata": {
        "id": "I71vtO9bA9Pi",
        "colab_type": "code",
        "colab": {
          "base_uri": "https://localhost:8080/",
          "height": 953
        },
        "outputId": "275df3c7-5f90-4e80-dfb4-13d8b7f8df76"
      },
      "source": [
        "c = np.random.rand(100)\n",
        "print(\"c: \",c)\n",
        "h = c.reshape(10,10)\n",
        "print(\"h: \",h)\n",
        "c_ = h.flatten()\n",
        "print(\"c_ : \",c_)\n",
        "# Yes they both are the same"
      ],
      "execution_count": 19,
      "outputs": [
        {
          "output_type": "stream",
          "text": [
            "c:  [0.36711644 0.09891855 0.33281923 0.05764054 0.08970685 0.34244109\n",
            " 0.37811368 0.31900018 0.18399427 0.44963296 0.63639552 0.3619267\n",
            " 0.07170223 0.44897949 0.66527725 0.23762964 0.4331623  0.61708591\n",
            " 0.04100267 0.0124222  0.73956355 0.19065827 0.49908385 0.42391295\n",
            " 0.96672655 0.3820461  0.46650049 0.2514433  0.98490313 0.27795676\n",
            " 0.37448185 0.66992451 0.66825949 0.00697448 0.31782677 0.17269636\n",
            " 0.54439045 0.99408194 0.65872471 0.40545914 0.99455207 0.07340211\n",
            " 0.67970936 0.89371202 0.3886722  0.50274043 0.05329655 0.71134221\n",
            " 0.26658728 0.65939412 0.79346949 0.13742115 0.50009592 0.94954714\n",
            " 0.16632626 0.86554782 0.27258019 0.46527569 0.35248108 0.01124619\n",
            " 0.61972984 0.45912925 0.4782871  0.58393097 0.94032695 0.82716018\n",
            " 0.07039234 0.24481537 0.47185648 0.13192732 0.39484098 0.73280843\n",
            " 0.48804506 0.98233562 0.26389616 0.17011712 0.104962   0.46628085\n",
            " 0.97526879 0.84366666 0.21475529 0.49614679 0.29633828 0.76271643\n",
            " 0.0246406  0.83464343 0.99471093 0.66267072 0.04855665 0.45293965\n",
            " 0.16250191 0.9757565  0.19898135 0.42973045 0.58209066 0.96914776\n",
            " 0.88563432 0.27742144 0.68969156 0.09251021]\n",
            "h:  [[0.36711644 0.09891855 0.33281923 0.05764054 0.08970685 0.34244109\n",
            "  0.37811368 0.31900018 0.18399427 0.44963296]\n",
            " [0.63639552 0.3619267  0.07170223 0.44897949 0.66527725 0.23762964\n",
            "  0.4331623  0.61708591 0.04100267 0.0124222 ]\n",
            " [0.73956355 0.19065827 0.49908385 0.42391295 0.96672655 0.3820461\n",
            "  0.46650049 0.2514433  0.98490313 0.27795676]\n",
            " [0.37448185 0.66992451 0.66825949 0.00697448 0.31782677 0.17269636\n",
            "  0.54439045 0.99408194 0.65872471 0.40545914]\n",
            " [0.99455207 0.07340211 0.67970936 0.89371202 0.3886722  0.50274043\n",
            "  0.05329655 0.71134221 0.26658728 0.65939412]\n",
            " [0.79346949 0.13742115 0.50009592 0.94954714 0.16632626 0.86554782\n",
            "  0.27258019 0.46527569 0.35248108 0.01124619]\n",
            " [0.61972984 0.45912925 0.4782871  0.58393097 0.94032695 0.82716018\n",
            "  0.07039234 0.24481537 0.47185648 0.13192732]\n",
            " [0.39484098 0.73280843 0.48804506 0.98233562 0.26389616 0.17011712\n",
            "  0.104962   0.46628085 0.97526879 0.84366666]\n",
            " [0.21475529 0.49614679 0.29633828 0.76271643 0.0246406  0.83464343\n",
            "  0.99471093 0.66267072 0.04855665 0.45293965]\n",
            " [0.16250191 0.9757565  0.19898135 0.42973045 0.58209066 0.96914776\n",
            "  0.88563432 0.27742144 0.68969156 0.09251021]]\n",
            "c_ :  [0.36711644 0.09891855 0.33281923 0.05764054 0.08970685 0.34244109\n",
            " 0.37811368 0.31900018 0.18399427 0.44963296 0.63639552 0.3619267\n",
            " 0.07170223 0.44897949 0.66527725 0.23762964 0.4331623  0.61708591\n",
            " 0.04100267 0.0124222  0.73956355 0.19065827 0.49908385 0.42391295\n",
            " 0.96672655 0.3820461  0.46650049 0.2514433  0.98490313 0.27795676\n",
            " 0.37448185 0.66992451 0.66825949 0.00697448 0.31782677 0.17269636\n",
            " 0.54439045 0.99408194 0.65872471 0.40545914 0.99455207 0.07340211\n",
            " 0.67970936 0.89371202 0.3886722  0.50274043 0.05329655 0.71134221\n",
            " 0.26658728 0.65939412 0.79346949 0.13742115 0.50009592 0.94954714\n",
            " 0.16632626 0.86554782 0.27258019 0.46527569 0.35248108 0.01124619\n",
            " 0.61972984 0.45912925 0.4782871  0.58393097 0.94032695 0.82716018\n",
            " 0.07039234 0.24481537 0.47185648 0.13192732 0.39484098 0.73280843\n",
            " 0.48804506 0.98233562 0.26389616 0.17011712 0.104962   0.46628085\n",
            " 0.97526879 0.84366666 0.21475529 0.49614679 0.29633828 0.76271643\n",
            " 0.0246406  0.83464343 0.99471093 0.66267072 0.04855665 0.45293965\n",
            " 0.16250191 0.9757565  0.19898135 0.42973045 0.58209066 0.96914776\n",
            " 0.88563432 0.27742144 0.68969156 0.09251021]\n"
          ],
          "name": "stdout"
        }
      ]
    },
    {
      "cell_type": "markdown",
      "metadata": {
        "id": "8FrecDPiA-Bv",
        "colab_type": "text"
      },
      "source": [
        "Let $A$ denote a randomly initialized three dimensional matrix of shape (2,10,5). Transpose $A$, call it $A^\\prime$, such that its shape is (5,2,10) and print it."
      ]
    },
    {
      "cell_type": "code",
      "metadata": {
        "id": "VbOKqSm6Bkaq",
        "colab_type": "code",
        "colab": {
          "base_uri": "https://localhost:8080/",
          "height": 797
        },
        "outputId": "7d04cb57-ad09-45ef-db8f-e3800392b676"
      },
      "source": [
        "A = np.random.rand(2,10,5)\n",
        "print(\"A: \",A)\n",
        "A_ = np.transpose(A).reshape(5,2,10)\n",
        "print(\"A_: \",A_)"
      ],
      "execution_count": 21,
      "outputs": [
        {
          "output_type": "stream",
          "text": [
            "A:  [[[0.5378371  0.80343583 0.42407134 0.40312134 0.41843316]\n",
            "  [0.66563864 0.03262029 0.16068579 0.6837101  0.11330442]\n",
            "  [0.70749562 0.03061656 0.42923381 0.50938279 0.4005377 ]\n",
            "  [0.62058337 0.77009706 0.07599962 0.26959895 0.97389852]\n",
            "  [0.48097024 0.39139622 0.20896182 0.11282041 0.08364069]\n",
            "  [0.13185179 0.35953983 0.23826119 0.59746273 0.48586259]\n",
            "  [0.13287103 0.73714324 0.98502242 0.91938876 0.04794505]\n",
            "  [0.46858827 0.52579293 0.2077215  0.28019605 0.88886983]\n",
            "  [0.80621813 0.67210429 0.52666348 0.48454414 0.62216015]\n",
            "  [0.78050755 0.79651044 0.47041238 0.55487499 0.51446741]]\n",
            "\n",
            " [[0.23160915 0.7870287  0.11420758 0.49403078 0.10954335]\n",
            "  [0.69871076 0.09260129 0.0664107  0.80543459 0.99824608]\n",
            "  [0.35657446 0.96964187 0.55642296 0.08373471 0.80429093]\n",
            "  [0.63650936 0.63628092 0.72375915 0.36916234 0.5344266 ]\n",
            "  [0.72352697 0.93103625 0.08891594 0.90387492 0.8496783 ]\n",
            "  [0.92122126 0.56325209 0.56254565 0.71568549 0.71830119]\n",
            "  [0.71067176 0.50135033 0.43379933 0.94040954 0.11064449]\n",
            "  [0.34684761 0.62595819 0.36798611 0.04475461 0.86412576]\n",
            "  [0.31027063 0.69650417 0.69712849 0.73678533 0.75391166]\n",
            "  [0.81022254 0.01993187 0.69865861 0.80224687 0.81995771]]]\n",
            "A_:  [[[0.5378371  0.23160915 0.66563864 0.69871076 0.70749562 0.35657446\n",
            "   0.62058337 0.63650936 0.48097024 0.72352697]\n",
            "  [0.13185179 0.92122126 0.13287103 0.71067176 0.46858827 0.34684761\n",
            "   0.80621813 0.31027063 0.78050755 0.81022254]]\n",
            "\n",
            " [[0.80343583 0.7870287  0.03262029 0.09260129 0.03061656 0.96964187\n",
            "   0.77009706 0.63628092 0.39139622 0.93103625]\n",
            "  [0.35953983 0.56325209 0.73714324 0.50135033 0.52579293 0.62595819\n",
            "   0.67210429 0.69650417 0.79651044 0.01993187]]\n",
            "\n",
            " [[0.42407134 0.11420758 0.16068579 0.0664107  0.42923381 0.55642296\n",
            "   0.07599962 0.72375915 0.20896182 0.08891594]\n",
            "  [0.23826119 0.56254565 0.98502242 0.43379933 0.2077215  0.36798611\n",
            "   0.52666348 0.69712849 0.47041238 0.69865861]]\n",
            "\n",
            " [[0.40312134 0.49403078 0.6837101  0.80543459 0.50938279 0.08373471\n",
            "   0.26959895 0.36916234 0.11282041 0.90387492]\n",
            "  [0.59746273 0.71568549 0.91938876 0.94040954 0.28019605 0.04475461\n",
            "   0.48454414 0.73678533 0.55487499 0.80224687]]\n",
            "\n",
            " [[0.41843316 0.10954335 0.11330442 0.99824608 0.4005377  0.80429093\n",
            "   0.97389852 0.5344266  0.08364069 0.8496783 ]\n",
            "  [0.48586259 0.71830119 0.04794505 0.11064449 0.88886983 0.86412576\n",
            "   0.62216015 0.75391166 0.51446741 0.81995771]]]\n"
          ],
          "name": "stdout"
        }
      ]
    },
    {
      "cell_type": "markdown",
      "metadata": {
        "id": "xR2zd-nkCani",
        "colab_type": "text"
      },
      "source": [
        "You have a matrix $X$ of size (10,5) filled with random values. Print the following :\n",
        "* Minimum value and index where it occured, for each column\n",
        "* Maximum value and the index where it occured, for each column\n",
        "* Minimum value and index where it occured, for each row\n",
        "* Maximum value and index where it occured, for each row\n",
        "* Minimum value and index where it occured, for the entire matrix\n",
        "* Maximum value and index where it occured, for the entire matrix"
      ]
    },
    {
      "cell_type": "code",
      "metadata": {
        "id": "FR2Wd4fWD_Og",
        "colab_type": "code",
        "colab": {
          "base_uri": "https://localhost:8080/",
          "height": 156
        },
        "outputId": "aa3329ac-a97e-4019-fc40-0897df9fb96b"
      },
      "source": [
        "np.random.seed(0)\n",
        "X = np.random.rand(10,5)\n",
        "print(\"Minimum value: \",np.min(X,axis=1),\" index where it occured for each column: \",np.argmin(X,axis=1))\n",
        "print(\"Maximum value: \",np.max(X,axis=1),\" index where it occured for each column: \",np.argmax(X,axis=1))\n",
        "print(\"Minimum value: \",np.min(X,axis=0),\" index where it occured for each row: \",np.argmin(X,axis=0))\n",
        "print(\"Maximum value: \",np.max(X,axis=0),\" index where it occured for each row: \",np.argmax(X,axis=0))\n",
        "print(\"Minimum value: \",np.min(X),\" index where it occured for entire matrix: \",np.argmin(X))\n",
        "print(\"Maximum value: \",np.max(X),\" index where it occured for entire matrix: \",np.argmax(X))"
      ],
      "execution_count": 24,
      "outputs": [
        {
          "output_type": "stream",
          "text": [
            "Minimum value:  [0.4236548  0.38344152 0.07103606 0.0202184  0.11827443 0.14335329\n",
            " 0.0187898  0.61209572 0.06022547 0.1289263 ]  index where it occured for each column:  [4 4 4 1 4 1 4 1 3 2]\n",
            "Maximum value:  [0.71518937 0.96366276 0.92559664 0.87001215 0.97861834 0.94466892\n",
            " 0.77423369 0.94374808 0.6976312  0.67063787]  index where it occured for each column:  [1 3 3 4 0 2 1 3 2 0]\n",
            "Minimum value:  [0.0871293  0.0202184  0.1289263  0.06022547 0.0187898 ]  index where it occured for each row:  [3 3 9 8 6]\n",
            "Maximum value:  [0.97861834 0.79915856 0.94466892 0.96366276 0.87001215]  index where it occured for each row:  [4 4 5 1 3]\n",
            "Minimum value:  0.018789800436355142  index where it occured for entire matrix:  34\n",
            "Maximum value:  0.978618342232764  index where it occured for entire matrix:  20\n"
          ],
          "name": "stdout"
        }
      ]
    },
    {
      "cell_type": "markdown",
      "metadata": {
        "id": "YpjW2ypkEGtS",
        "colab_type": "text"
      },
      "source": [
        "Find and print the following for the matrix X: \n",
        "* Mean of each row and column\n",
        "* Standard deviation of each row and column\n",
        "* Mean of the entire matrix\n",
        "* Standard deviation of entire matrix"
      ]
    },
    {
      "cell_type": "code",
      "metadata": {
        "id": "gMdm2pw0GWjf",
        "colab_type": "code",
        "colab": {
          "base_uri": "https://localhost:8080/",
          "height": 141
        },
        "outputId": "f03cc2d1-40ff-4421-ca30-9c6085b12230"
      },
      "source": [
        "print(\"Mean of each row: \",np.mean(X,axis=0) ,\"column: \",np.mean(X,axis=1))\n",
        "print(\"Standard deviation of each row: \",np.std(X,axis=0) ,\"Standard deviation: \",np.std(X,axis=1))\n",
        "print(\"Mean of the entire matrix: \",np.mean(X))\n",
        "print(\"Standard deviation of entire matrix: \",np.std(X))"
      ],
      "execution_count": 25,
      "outputs": [
        {
          "output_type": "stream",
          "text": [
            "Mean of each row:  [0.56044382 0.46781457 0.62009909 0.64025127 0.40121685] column:  [0.56706085 0.66447172 0.57705944 0.51762729 0.62761197 0.5328907\n",
            " 0.41643268 0.69444672 0.44423265 0.33781717]\n",
            "Standard deviation of each row:  [0.24687647 0.25752158 0.22948615 0.28054144 0.26584905] Standard deviation:  [0.09445299 0.23322986 0.29189733 0.38052993 0.30431633 0.26338419\n",
            " 0.25841437 0.12727959 0.23169975 0.18537332]\n",
            "Mean of the entire matrix:  0.5379651182755409\n",
            "Standard deviation of entire matrix:  0.27226582292177587\n"
          ],
          "name": "stdout"
        }
      ]
    },
    {
      "cell_type": "markdown",
      "metadata": {
        "id": "7dw7W8HOGXKA",
        "colab_type": "text"
      },
      "source": [
        "Let $Y$ denote a square matrix of size 10 with random values. Print the following:\n",
        "* Determinant\n",
        "* Rank of the matrix\n",
        "* Diagonal Elements\n",
        "* Trace\n",
        "* Eigen values\n",
        "* Matrices obtained after Singular Value Decomposition\n",
        "* Inverse if exists, otherwise Pseudo-Inverse\n",
        "* Multiplication $Y$ with $X$\n",
        "* Element-wise multiplication of $Y$ and its inverse(or pseudo-inverse)"
      ]
    },
    {
      "cell_type": "code",
      "metadata": {
        "id": "Tswbn9hgL7yi",
        "colab_type": "code",
        "colab": {
          "base_uri": "https://localhost:8080/",
          "height": 1000
        },
        "outputId": "65380ab9-b2eb-41a9-c09f-e5c3267a1760"
      },
      "source": [
        "np.random.seed(3)\n",
        "Y = np.random.rand(10,10)\n",
        "print(\"Determinant: \",np.linalg.det(Y))\n",
        "print(\"Rank of the matrix: \",np.linalg.matrix_rank(Y))\n",
        "print(\"Diagonal Elements: \",np.diag(Y))\n",
        "print(\"Trace: \",np.trace(Y))\n",
        "eigen_val,eigen_vec = np.linalg.eigh(Y)\n",
        "print(\"Eigen values: \",eigen_val)\n",
        "print(\"Eigen vector: \",eigen_vec)\n",
        "P, D, Q  = np.linalg.svd(Y)\n",
        "print(P)\n",
        "print(D)\n",
        "print(Q)\n",
        "print(\"Inverse of matrix: \",np.linalg.inv(Y))\n",
        "# print(\"Multiplication Y with  X: \",np.multiply(Y,X))\n",
        "# print(\"Element-wise multiplication of  Y  and its inverse(or pseudo-inverse): \",np.linalg.pinv(Y))"
      ],
      "execution_count": 46,
      "outputs": [
        {
          "output_type": "stream",
          "text": [
            "Determinant:  -0.012807808169095483\n",
            "Rank of the matrix:  10\n",
            "Diagonal Elements:  [0.5507979  0.45683322 0.44045372 0.84575087 0.4576864  0.36217621\n",
            " 0.06152893 0.19897603 0.92672568 0.19638058]\n",
            "Trace:  4.497309545724899\n",
            "Eigen values:  [-1.08602833 -0.88885445 -0.72632217 -0.49191034 -0.1490077   0.39421149\n",
            "  0.60135873  0.70544085  1.06101091  5.07741055]\n",
            "Eigen vector:  [[ 0.48050851 -0.0200137   0.09671215  0.21489969  0.27207656  0.11903468\n",
            "   0.55058753  0.11410697 -0.4792787   0.28125769]\n",
            " [ 0.22507403  0.09534616  0.50359666  0.04711867  0.42595914  0.0779829\n",
            "  -0.59613823 -0.20935198  0.0517971   0.30823126]\n",
            " [ 0.42939264 -0.1055188  -0.39568634 -0.1191699  -0.37319443 -0.33907746\n",
            "  -0.42291808  0.17931374 -0.24386062  0.33013612]\n",
            " [-0.38372967 -0.26607376  0.26445327 -0.32024866 -0.19848103 -0.25094841\n",
            "   0.19065508 -0.46296983 -0.28403863  0.41919371]\n",
            " [ 0.04729593 -0.20563129 -0.05793031 -0.5819849  -0.0247571   0.65350918\n",
            "   0.03237518  0.25520356  0.19651542  0.2844891 ]\n",
            " [-0.0998037  -0.42660248  0.37028679  0.29938375 -0.10518532 -0.26480831\n",
            "   0.085106    0.54633199  0.36988773  0.23995959]\n",
            " [-0.1839631  -0.24276003 -0.57303384  0.04346957  0.6360141  -0.19627207\n",
            "   0.03617257 -0.10427891  0.21832234  0.2721836 ]\n",
            " [-0.45804593 -0.00675241 -0.16981381  0.53001459 -0.15078298  0.45229978\n",
            "  -0.24845536  0.08222329 -0.34223172  0.25975421]\n",
            " [ 0.2548055   0.18885063 -0.11271402  0.30570489 -0.35195323  0.13996254\n",
            "   0.20658324 -0.44524649  0.53431038  0.35125549]\n",
            " [-0.25701115  0.76789492  0.01251996 -0.1738956   0.05538018 -0.2047334\n",
            "   0.11071213  0.34230128  0.04186906  0.37111069]]\n",
            "[[-0.31776408 -0.02455508 -0.60644878 -0.17883359 -0.12672161  0.14873878\n",
            "  -0.17823942 -0.52859453 -0.02295855 -0.38570883]\n",
            " [-0.26118514 -0.10864541 -0.24911354  0.26547359  0.52168399 -0.25773901\n",
            "  -0.46995326  0.21752636 -0.39285046  0.16234491]\n",
            " [-0.31347907 -0.34483471 -0.25292297  0.1214296   0.1486964   0.33436315\n",
            "   0.54080229  0.48017168  0.05660692 -0.20966421]\n",
            " [-0.35815379  0.59490017  0.30255161  0.15850614 -0.11046295  0.3051409\n",
            "   0.07395537  0.03044889 -0.50561658 -0.18384856]\n",
            " [-0.28385845 -0.18085696 -0.1583078   0.10535533 -0.46807835 -0.08377643\n",
            "   0.24075452 -0.16170764 -0.24786952  0.69201648]\n",
            " [-0.28871348 -0.27577124  0.40271105  0.60433658  0.11931679 -0.04899205\n",
            "   0.02593316 -0.44875145  0.27874747 -0.12964796]\n",
            " [-0.27897316  0.00398904  0.20819753 -0.52536617  0.41116881 -0.41991923\n",
            "   0.42687225 -0.24145621 -0.12958507 -0.00984813]\n",
            " [-0.24788529  0.48136836 -0.15792433 -0.02303902  0.3246308   0.25755952\n",
            "  -0.01429533 -0.03088365  0.56052488  0.44079262]\n",
            " [-0.37505167 -0.36728578  0.39799373 -0.45186801 -0.10830044  0.34456765\n",
            "  -0.4447402   0.14147957  0.0716725   0.09192695]\n",
            " [-0.40049601  0.19846099 -0.02705464  0.02500837 -0.39745062 -0.57941613\n",
            "  -0.10288216  0.3673956   0.33321483 -0.22039139]]\n",
            "[4.89636645 1.42832104 1.17173389 0.94068764 0.76892251 0.62457278\n",
            " 0.52105948 0.28969576 0.24512275 0.09350223]\n",
            "[[-0.28816735 -0.35560525 -0.33294235 -0.33250662 -0.36658188 -0.3625847\n",
            "  -0.26573249 -0.23278667 -0.30457183 -0.29270444]\n",
            " [ 0.53693497  0.11306854  0.39562078  0.25099719 -0.07369559 -0.37753546\n",
            "  -0.08584363  0.00333609 -0.2399022  -0.51623983]\n",
            " [-0.084609   -0.22589744 -0.00306935  0.1954239  -0.327784   -0.49318928\n",
            "   0.42323124  0.18588504  0.58200169  0.02301787]\n",
            " [ 0.01388163 -0.2631197   0.42190391 -0.53612946  0.01058633 -0.04415909\n",
            "   0.29385139  0.49501812 -0.32731018  0.15669071]\n",
            " [-0.27340804  0.28220631  0.28945859 -0.1626885   0.14790418 -0.35915036\n",
            "  -0.64971879  0.23854611  0.29589227  0.1337842 ]\n",
            " [ 0.10830593  0.27974551 -0.20571161  0.10308827  0.10096026 -0.5325142\n",
            "   0.15994871 -0.16150892 -0.3941055   0.59692177]\n",
            " [ 0.44882085  0.34972045 -0.01773924 -0.50737391 -0.52251393  0.11970007\n",
            "  -0.02807841 -0.20137782  0.25705553  0.15409283]\n",
            " [-0.35599817 -0.05022624  0.63427946  0.20935183 -0.34847081  0.11510691\n",
            "   0.03182222 -0.47748403 -0.1161671   0.21777064]\n",
            " [ 0.18417681 -0.32168889  0.15954963 -0.32397524  0.5548368  -0.1807982\n",
            "   0.08626619 -0.55063636  0.28439362 -0.01119242]\n",
            " [-0.41560913  0.59522266  0.02089304 -0.23979844  0.13515565 -0.0893732\n",
            "   0.44674689 -0.10709455 -0.02239562 -0.42098815]]\n",
            "Inverse of matrix:  [[ 2.31470983 -1.92264991  0.7642126   0.78096977 -2.74248585  1.20175092\n",
            "   0.38693174 -1.37664514 -0.96484143  0.83123246]\n",
            " [-2.24504111  1.25605742 -0.91466223 -0.39587642  4.71823627 -1.32162185\n",
            "   0.52594984  2.39368168  0.33051878 -2.33540101]\n",
            " [-1.41290916  0.66149939  0.94968095 -0.18869248 -0.50069581 -0.55664939\n",
            "  -0.55275157  0.57384943 -0.04209635  1.11025544]\n",
            " [ 0.88051129  0.37055438  0.15632501  1.25248223 -1.81219563 -0.7249179\n",
            "  -0.19613524 -1.81766381  0.56943994  0.52226388]\n",
            " [ 0.39743656 -0.28842728 -1.09880632 -1.57965965  0.36480771  0.90235521\n",
            "  -0.47743451  2.09911148  0.53638288 -0.04562024]\n",
            " [ 0.36068175  0.22958502  0.33426258  0.10367281 -0.06700744 -0.37158555\n",
            "   0.22972702 -1.26286862 -0.45133033  0.75430018]\n",
            " [-2.01045364  0.19347423 -1.01393804 -0.74303568  3.56449935 -0.31892146\n",
            "  -0.67116163  2.01265699  0.72873355 -0.69454601]\n",
            " [ 1.18043988  0.86047396 -0.88991494  1.30425635 -0.14247318  0.69661973\n",
            "   0.5413572  -1.69774697 -0.60797727 -1.00698216]\n",
            " [-0.1679456  -0.63197036 -0.0540802  -0.73587818 -0.46423184  0.67805628\n",
            "   0.88551393  0.37662528 -0.03416891  0.42341327]\n",
            " [ 1.3938872  -0.74982353  1.96636643  1.00676681 -3.21953806  0.44078124\n",
            "  -0.40298654 -1.90114336 -0.04414834  0.55576763]]\n"
          ],
          "name": "stdout"
        }
      ]
    },
    {
      "cell_type": "markdown",
      "metadata": {
        "id": "Qne3RnfOL6-4",
        "colab_type": "text"
      },
      "source": [
        "## End of Part - 1\n",
        " --- --- ---"
      ]
    },
    {
      "cell_type": "markdown",
      "metadata": {
        "id": "LA-m4UYkMPTe",
        "colab_type": "text"
      },
      "source": [
        "## Part - 2\n",
        "---\n",
        "In this part, you will be working with the library ```pandas```. Import this library with an alias name ```pd```."
      ]
    },
    {
      "cell_type": "code",
      "metadata": {
        "id": "i8z7TpnZSIms",
        "colab_type": "code",
        "colab": {}
      },
      "source": [
        "# Initial imports\n",
        "import numpy as np\n",
        "import matplotlib.pyplot as plt\n",
        "import pandas as pd\n",
        "\n"
      ],
      "execution_count": 0,
      "outputs": []
    },
    {
      "cell_type": "markdown",
      "metadata": {
        "id": "2v-HkHnyuQ3X",
        "colab_type": "text"
      },
      "source": [
        "Download dataset from: http://biostat.mc.vanderbilt.edu/wiki/pub/Main/DataSets/titanic3.csv\n",
        "Read the data and display the first 5 rows"
      ]
    },
    {
      "cell_type": "code",
      "metadata": {
        "id": "LinX5ywNTUIm",
        "colab_type": "code",
        "colab": {
          "base_uri": "https://localhost:8080/",
          "height": 271
        },
        "outputId": "adc0e5d3-afbe-4cfc-df76-5230716f0329"
      },
      "source": [
        "#Download dataset from: http://biostat.mc.vanderbilt.edu/wiki/pub/Main/DataSets/titanic3.csv\n",
        "\n",
        "file_url = \"http://biostat.mc.vanderbilt.edu/wiki/pub/Main/DataSets/titanic3.csv\"\n",
        "df = pd.read_csv(file_url)\n",
        "df.head()"
      ],
      "execution_count": 71,
      "outputs": [
        {
          "output_type": "execute_result",
          "data": {
            "text/html": [
              "<div>\n",
              "<style scoped>\n",
              "    .dataframe tbody tr th:only-of-type {\n",
              "        vertical-align: middle;\n",
              "    }\n",
              "\n",
              "    .dataframe tbody tr th {\n",
              "        vertical-align: top;\n",
              "    }\n",
              "\n",
              "    .dataframe thead th {\n",
              "        text-align: right;\n",
              "    }\n",
              "</style>\n",
              "<table border=\"1\" class=\"dataframe\">\n",
              "  <thead>\n",
              "    <tr style=\"text-align: right;\">\n",
              "      <th></th>\n",
              "      <th>pclass</th>\n",
              "      <th>survived</th>\n",
              "      <th>name</th>\n",
              "      <th>sex</th>\n",
              "      <th>age</th>\n",
              "      <th>sibsp</th>\n",
              "      <th>parch</th>\n",
              "      <th>ticket</th>\n",
              "      <th>fare</th>\n",
              "      <th>cabin</th>\n",
              "      <th>embarked</th>\n",
              "      <th>boat</th>\n",
              "      <th>body</th>\n",
              "      <th>home.dest</th>\n",
              "    </tr>\n",
              "  </thead>\n",
              "  <tbody>\n",
              "    <tr>\n",
              "      <th>0</th>\n",
              "      <td>1</td>\n",
              "      <td>1</td>\n",
              "      <td>Allen, Miss. Elisabeth Walton</td>\n",
              "      <td>female</td>\n",
              "      <td>29.00</td>\n",
              "      <td>0</td>\n",
              "      <td>0</td>\n",
              "      <td>24160</td>\n",
              "      <td>211.3375</td>\n",
              "      <td>B5</td>\n",
              "      <td>S</td>\n",
              "      <td>2</td>\n",
              "      <td>NaN</td>\n",
              "      <td>St Louis, MO</td>\n",
              "    </tr>\n",
              "    <tr>\n",
              "      <th>1</th>\n",
              "      <td>1</td>\n",
              "      <td>1</td>\n",
              "      <td>Allison, Master. Hudson Trevor</td>\n",
              "      <td>male</td>\n",
              "      <td>0.92</td>\n",
              "      <td>1</td>\n",
              "      <td>2</td>\n",
              "      <td>113781</td>\n",
              "      <td>151.5500</td>\n",
              "      <td>C22 C26</td>\n",
              "      <td>S</td>\n",
              "      <td>11</td>\n",
              "      <td>NaN</td>\n",
              "      <td>Montreal, PQ / Chesterville, ON</td>\n",
              "    </tr>\n",
              "    <tr>\n",
              "      <th>2</th>\n",
              "      <td>1</td>\n",
              "      <td>0</td>\n",
              "      <td>Allison, Miss. Helen Loraine</td>\n",
              "      <td>female</td>\n",
              "      <td>2.00</td>\n",
              "      <td>1</td>\n",
              "      <td>2</td>\n",
              "      <td>113781</td>\n",
              "      <td>151.5500</td>\n",
              "      <td>C22 C26</td>\n",
              "      <td>S</td>\n",
              "      <td>NaN</td>\n",
              "      <td>NaN</td>\n",
              "      <td>Montreal, PQ / Chesterville, ON</td>\n",
              "    </tr>\n",
              "    <tr>\n",
              "      <th>3</th>\n",
              "      <td>1</td>\n",
              "      <td>0</td>\n",
              "      <td>Allison, Mr. Hudson Joshua Creighton</td>\n",
              "      <td>male</td>\n",
              "      <td>30.00</td>\n",
              "      <td>1</td>\n",
              "      <td>2</td>\n",
              "      <td>113781</td>\n",
              "      <td>151.5500</td>\n",
              "      <td>C22 C26</td>\n",
              "      <td>S</td>\n",
              "      <td>NaN</td>\n",
              "      <td>135.0</td>\n",
              "      <td>Montreal, PQ / Chesterville, ON</td>\n",
              "    </tr>\n",
              "    <tr>\n",
              "      <th>4</th>\n",
              "      <td>1</td>\n",
              "      <td>0</td>\n",
              "      <td>Allison, Mrs. Hudson J C (Bessie Waldo Daniels)</td>\n",
              "      <td>female</td>\n",
              "      <td>25.00</td>\n",
              "      <td>1</td>\n",
              "      <td>2</td>\n",
              "      <td>113781</td>\n",
              "      <td>151.5500</td>\n",
              "      <td>C22 C26</td>\n",
              "      <td>S</td>\n",
              "      <td>NaN</td>\n",
              "      <td>NaN</td>\n",
              "      <td>Montreal, PQ / Chesterville, ON</td>\n",
              "    </tr>\n",
              "  </tbody>\n",
              "</table>\n",
              "</div>"
            ],
            "text/plain": [
              "   pclass  survived  ...   body                        home.dest\n",
              "0       1         1  ...    NaN                     St Louis, MO\n",
              "1       1         1  ...    NaN  Montreal, PQ / Chesterville, ON\n",
              "2       1         0  ...    NaN  Montreal, PQ / Chesterville, ON\n",
              "3       1         0  ...  135.0  Montreal, PQ / Chesterville, ON\n",
              "4       1         0  ...    NaN  Montreal, PQ / Chesterville, ON\n",
              "\n",
              "[5 rows x 14 columns]"
            ]
          },
          "metadata": {
            "tags": []
          },
          "execution_count": 71
        }
      ]
    },
    {
      "cell_type": "markdown",
      "metadata": {
        "id": "vTk1-mF5WYFN",
        "colab_type": "text"
      },
      "source": [
        "### Preprocessing of the Dataset"
      ]
    },
    {
      "cell_type": "markdown",
      "metadata": {
        "id": "kx9UrI9WWt17",
        "colab_type": "text"
      },
      "source": [
        "\n",
        "\n",
        "---\n",
        "\n",
        "\n",
        "**1. Convert the categorical values of columns 'sex', 'embarked', 'pclass' into dummy values and add them into titanic_data_new DataFrame**\n",
        "\n",
        "\n",
        "\n",
        "\n",
        "---\n",
        "\n"
      ]
    },
    {
      "cell_type": "code",
      "metadata": {
        "id": "AwDh9njbZ0QU",
        "colab_type": "code",
        "colab": {
          "base_uri": "https://localhost:8080/",
          "height": 534
        },
        "outputId": "1c4810c0-4d5a-4ad7-b8b5-3f5d0aafd29e"
      },
      "source": [
        "\n",
        "df[\"pclass\"].value_counts()\n",
        "df_sex = pd.get_dummies(df[\"sex\"],prefix='sex',prefix_sep='_')\n",
        "df_pclass = pd.get_dummies(df[\"pclass\"],prefix='pclass',prefix_sep='_')\n",
        "df_embarked = pd.get_dummies(df[\"embarked\"],prefix='embarked',prefix_sep='_')\n",
        "df_1 = pd.concat([df,df_sex],axis=1)\n",
        "df_2 = pd.concat([df_1,df_pclass],axis=1)\n",
        "df_3 = pd.concat([df_2,df_embarked],axis=1)\n",
        "df_3.head()\n",
        "df = df_3.drop(columns=[\"sex\",\"pclass\",\"embarked\"],axis=1)\n",
        "df.head()"
      ],
      "execution_count": 72,
      "outputs": [
        {
          "output_type": "execute_result",
          "data": {
            "text/html": [
              "<div>\n",
              "<style scoped>\n",
              "    .dataframe tbody tr th:only-of-type {\n",
              "        vertical-align: middle;\n",
              "    }\n",
              "\n",
              "    .dataframe tbody tr th {\n",
              "        vertical-align: top;\n",
              "    }\n",
              "\n",
              "    .dataframe thead th {\n",
              "        text-align: right;\n",
              "    }\n",
              "</style>\n",
              "<table border=\"1\" class=\"dataframe\">\n",
              "  <thead>\n",
              "    <tr style=\"text-align: right;\">\n",
              "      <th></th>\n",
              "      <th>survived</th>\n",
              "      <th>name</th>\n",
              "      <th>age</th>\n",
              "      <th>sibsp</th>\n",
              "      <th>parch</th>\n",
              "      <th>ticket</th>\n",
              "      <th>fare</th>\n",
              "      <th>cabin</th>\n",
              "      <th>boat</th>\n",
              "      <th>body</th>\n",
              "      <th>home.dest</th>\n",
              "      <th>sex_female</th>\n",
              "      <th>sex_male</th>\n",
              "      <th>pclass_1</th>\n",
              "      <th>pclass_2</th>\n",
              "      <th>pclass_3</th>\n",
              "      <th>embarked_C</th>\n",
              "      <th>embarked_Q</th>\n",
              "      <th>embarked_S</th>\n",
              "    </tr>\n",
              "  </thead>\n",
              "  <tbody>\n",
              "    <tr>\n",
              "      <th>0</th>\n",
              "      <td>1</td>\n",
              "      <td>Allen, Miss. Elisabeth Walton</td>\n",
              "      <td>29.00</td>\n",
              "      <td>0</td>\n",
              "      <td>0</td>\n",
              "      <td>24160</td>\n",
              "      <td>211.3375</td>\n",
              "      <td>B5</td>\n",
              "      <td>2</td>\n",
              "      <td>NaN</td>\n",
              "      <td>St Louis, MO</td>\n",
              "      <td>1</td>\n",
              "      <td>0</td>\n",
              "      <td>1</td>\n",
              "      <td>0</td>\n",
              "      <td>0</td>\n",
              "      <td>0</td>\n",
              "      <td>0</td>\n",
              "      <td>1</td>\n",
              "    </tr>\n",
              "    <tr>\n",
              "      <th>1</th>\n",
              "      <td>1</td>\n",
              "      <td>Allison, Master. Hudson Trevor</td>\n",
              "      <td>0.92</td>\n",
              "      <td>1</td>\n",
              "      <td>2</td>\n",
              "      <td>113781</td>\n",
              "      <td>151.5500</td>\n",
              "      <td>C22 C26</td>\n",
              "      <td>11</td>\n",
              "      <td>NaN</td>\n",
              "      <td>Montreal, PQ / Chesterville, ON</td>\n",
              "      <td>0</td>\n",
              "      <td>1</td>\n",
              "      <td>1</td>\n",
              "      <td>0</td>\n",
              "      <td>0</td>\n",
              "      <td>0</td>\n",
              "      <td>0</td>\n",
              "      <td>1</td>\n",
              "    </tr>\n",
              "    <tr>\n",
              "      <th>2</th>\n",
              "      <td>0</td>\n",
              "      <td>Allison, Miss. Helen Loraine</td>\n",
              "      <td>2.00</td>\n",
              "      <td>1</td>\n",
              "      <td>2</td>\n",
              "      <td>113781</td>\n",
              "      <td>151.5500</td>\n",
              "      <td>C22 C26</td>\n",
              "      <td>NaN</td>\n",
              "      <td>NaN</td>\n",
              "      <td>Montreal, PQ / Chesterville, ON</td>\n",
              "      <td>1</td>\n",
              "      <td>0</td>\n",
              "      <td>1</td>\n",
              "      <td>0</td>\n",
              "      <td>0</td>\n",
              "      <td>0</td>\n",
              "      <td>0</td>\n",
              "      <td>1</td>\n",
              "    </tr>\n",
              "    <tr>\n",
              "      <th>3</th>\n",
              "      <td>0</td>\n",
              "      <td>Allison, Mr. Hudson Joshua Creighton</td>\n",
              "      <td>30.00</td>\n",
              "      <td>1</td>\n",
              "      <td>2</td>\n",
              "      <td>113781</td>\n",
              "      <td>151.5500</td>\n",
              "      <td>C22 C26</td>\n",
              "      <td>NaN</td>\n",
              "      <td>135.0</td>\n",
              "      <td>Montreal, PQ / Chesterville, ON</td>\n",
              "      <td>0</td>\n",
              "      <td>1</td>\n",
              "      <td>1</td>\n",
              "      <td>0</td>\n",
              "      <td>0</td>\n",
              "      <td>0</td>\n",
              "      <td>0</td>\n",
              "      <td>1</td>\n",
              "    </tr>\n",
              "    <tr>\n",
              "      <th>4</th>\n",
              "      <td>0</td>\n",
              "      <td>Allison, Mrs. Hudson J C (Bessie Waldo Daniels)</td>\n",
              "      <td>25.00</td>\n",
              "      <td>1</td>\n",
              "      <td>2</td>\n",
              "      <td>113781</td>\n",
              "      <td>151.5500</td>\n",
              "      <td>C22 C26</td>\n",
              "      <td>NaN</td>\n",
              "      <td>NaN</td>\n",
              "      <td>Montreal, PQ / Chesterville, ON</td>\n",
              "      <td>1</td>\n",
              "      <td>0</td>\n",
              "      <td>1</td>\n",
              "      <td>0</td>\n",
              "      <td>0</td>\n",
              "      <td>0</td>\n",
              "      <td>0</td>\n",
              "      <td>1</td>\n",
              "    </tr>\n",
              "  </tbody>\n",
              "</table>\n",
              "</div>"
            ],
            "text/plain": [
              "   survived  ... embarked_S\n",
              "0         1  ...          1\n",
              "1         1  ...          1\n",
              "2         0  ...          1\n",
              "3         0  ...          1\n",
              "4         0  ...          1\n",
              "\n",
              "[5 rows x 19 columns]"
            ]
          },
          "metadata": {
            "tags": []
          },
          "execution_count": 72
        }
      ]
    },
    {
      "cell_type": "markdown",
      "metadata": {
        "id": "Z9bxOfzDbY-n",
        "colab_type": "text"
      },
      "source": [
        "\n",
        "\n",
        "---\n",
        "\n",
        "\n",
        "**2. Fill the missing data in Age and Fare columns with the mean value of the respected column then add these columns to titanic_data_new**\n",
        "\n",
        "\n",
        "---\n",
        "\n"
      ]
    },
    {
      "cell_type": "code",
      "metadata": {
        "id": "DNx7Pr0ehhAs",
        "colab_type": "code",
        "colab": {
          "base_uri": "https://localhost:8080/",
          "height": 87
        },
        "outputId": "4ef9be66-0989-44f0-88dc-53c135013509"
      },
      "source": [
        "print(df[\"age\"].isnull().sum())\n",
        "df[\"age\"].fillna(value=np.mean(df[\"age\"]),inplace=True)\n",
        "df[\"fare\"].fillna(value=np.mean(df[\"fare\"]),inplace=True)\n",
        "print(df[[\"age\",\"fare\"]].isnull().sum())"
      ],
      "execution_count": 78,
      "outputs": [
        {
          "output_type": "stream",
          "text": [
            "263\n"
          ],
          "name": "stdout"
        },
        {
          "output_type": "execute_result",
          "data": {
            "text/plain": [
              "age     0\n",
              "fare    0\n",
              "dtype: int64"
            ]
          },
          "metadata": {
            "tags": []
          },
          "execution_count": 78
        }
      ]
    },
    {
      "cell_type": "markdown",
      "metadata": {
        "id": "SlRzKfhxkd1M",
        "colab_type": "text"
      },
      "source": [
        "###Normalization\n",
        "\n",
        "\n",
        "---\n",
        "\n",
        "\n",
        "\n",
        "1. Normalize the columns which have numerical data\n",
        "\n",
        "\n",
        "\n",
        "---\n",
        "\n"
      ]
    },
    {
      "cell_type": "code",
      "metadata": {
        "id": "Y3hpu92TlM38",
        "colab_type": "code",
        "colab": {
          "base_uri": "https://localhost:8080/",
          "height": 139
        },
        "outputId": "da222086-e530-4048-d515-978125efca87"
      },
      "source": [
        "from sklearn.preprocessing import StandardScaler\n",
        "standard_scaler = StandardScaler()\n",
        "scaled_features = standard_scaler.fit_transform(df[[\"age\",'fare']])\n",
        "scaled_features"
      ],
      "execution_count": 84,
      "outputs": [
        {
          "output_type": "execute_result",
          "data": {
            "text/plain": [
              "array([[-0.06842049,  3.4424802 ],\n",
              "       [-2.24883736,  2.28647622],\n",
              "       [-2.16497518,  2.28647622],\n",
              "       ...,\n",
              "       [-0.26254593, -0.50407824],\n",
              "       [-0.22372084, -0.50407824],\n",
              "       [-0.06842049, -0.49151035]])"
            ]
          },
          "metadata": {
            "tags": []
          },
          "execution_count": 84
        }
      ]
    },
    {
      "cell_type": "markdown",
      "metadata": {
        "id": "wB9-5x83mFAO",
        "colab_type": "text"
      },
      "source": [
        "\n",
        "\n",
        "---\n",
        "2. Drop the original age, fare columns\n",
        "3. Append the normalized columns to the titanic_data_new DataFrame.\n",
        "\n",
        "\n",
        "\n",
        "---\n",
        "\n"
      ]
    },
    {
      "cell_type": "code",
      "metadata": {
        "id": "Kb00kM0onQJy",
        "colab_type": "code",
        "colab": {
          "base_uri": "https://localhost:8080/",
          "height": 534
        },
        "outputId": "973efdac-c39e-4f1b-d1b1-832d8413bf3a"
      },
      "source": [
        "scaled_df = pd.DataFrame(scaled_features,columns=[\"age_norm\",\"fare_norm\"])\n",
        "scaled_df\n",
        "# df.drop(columns=[\"age\",\"fare\"],inplace=True)\n",
        "df = pd.concat([df,scaled_df],axis=1)\n",
        "df.head()"
      ],
      "execution_count": 87,
      "outputs": [
        {
          "output_type": "execute_result",
          "data": {
            "text/html": [
              "<div>\n",
              "<style scoped>\n",
              "    .dataframe tbody tr th:only-of-type {\n",
              "        vertical-align: middle;\n",
              "    }\n",
              "\n",
              "    .dataframe tbody tr th {\n",
              "        vertical-align: top;\n",
              "    }\n",
              "\n",
              "    .dataframe thead th {\n",
              "        text-align: right;\n",
              "    }\n",
              "</style>\n",
              "<table border=\"1\" class=\"dataframe\">\n",
              "  <thead>\n",
              "    <tr style=\"text-align: right;\">\n",
              "      <th></th>\n",
              "      <th>survived</th>\n",
              "      <th>name</th>\n",
              "      <th>sibsp</th>\n",
              "      <th>parch</th>\n",
              "      <th>ticket</th>\n",
              "      <th>cabin</th>\n",
              "      <th>boat</th>\n",
              "      <th>body</th>\n",
              "      <th>home.dest</th>\n",
              "      <th>sex_female</th>\n",
              "      <th>sex_male</th>\n",
              "      <th>pclass_1</th>\n",
              "      <th>pclass_2</th>\n",
              "      <th>pclass_3</th>\n",
              "      <th>embarked_C</th>\n",
              "      <th>embarked_Q</th>\n",
              "      <th>embarked_S</th>\n",
              "      <th>age_norm</th>\n",
              "      <th>fare_norm</th>\n",
              "    </tr>\n",
              "  </thead>\n",
              "  <tbody>\n",
              "    <tr>\n",
              "      <th>0</th>\n",
              "      <td>1</td>\n",
              "      <td>Allen, Miss. Elisabeth Walton</td>\n",
              "      <td>0</td>\n",
              "      <td>0</td>\n",
              "      <td>24160</td>\n",
              "      <td>B5</td>\n",
              "      <td>2</td>\n",
              "      <td>NaN</td>\n",
              "      <td>St Louis, MO</td>\n",
              "      <td>1</td>\n",
              "      <td>0</td>\n",
              "      <td>1</td>\n",
              "      <td>0</td>\n",
              "      <td>0</td>\n",
              "      <td>0</td>\n",
              "      <td>0</td>\n",
              "      <td>1</td>\n",
              "      <td>-0.068420</td>\n",
              "      <td>3.442480</td>\n",
              "    </tr>\n",
              "    <tr>\n",
              "      <th>1</th>\n",
              "      <td>1</td>\n",
              "      <td>Allison, Master. Hudson Trevor</td>\n",
              "      <td>1</td>\n",
              "      <td>2</td>\n",
              "      <td>113781</td>\n",
              "      <td>C22 C26</td>\n",
              "      <td>11</td>\n",
              "      <td>NaN</td>\n",
              "      <td>Montreal, PQ / Chesterville, ON</td>\n",
              "      <td>0</td>\n",
              "      <td>1</td>\n",
              "      <td>1</td>\n",
              "      <td>0</td>\n",
              "      <td>0</td>\n",
              "      <td>0</td>\n",
              "      <td>0</td>\n",
              "      <td>1</td>\n",
              "      <td>-2.248837</td>\n",
              "      <td>2.286476</td>\n",
              "    </tr>\n",
              "    <tr>\n",
              "      <th>2</th>\n",
              "      <td>0</td>\n",
              "      <td>Allison, Miss. Helen Loraine</td>\n",
              "      <td>1</td>\n",
              "      <td>2</td>\n",
              "      <td>113781</td>\n",
              "      <td>C22 C26</td>\n",
              "      <td>NaN</td>\n",
              "      <td>NaN</td>\n",
              "      <td>Montreal, PQ / Chesterville, ON</td>\n",
              "      <td>1</td>\n",
              "      <td>0</td>\n",
              "      <td>1</td>\n",
              "      <td>0</td>\n",
              "      <td>0</td>\n",
              "      <td>0</td>\n",
              "      <td>0</td>\n",
              "      <td>1</td>\n",
              "      <td>-2.164975</td>\n",
              "      <td>2.286476</td>\n",
              "    </tr>\n",
              "    <tr>\n",
              "      <th>3</th>\n",
              "      <td>0</td>\n",
              "      <td>Allison, Mr. Hudson Joshua Creighton</td>\n",
              "      <td>1</td>\n",
              "      <td>2</td>\n",
              "      <td>113781</td>\n",
              "      <td>C22 C26</td>\n",
              "      <td>NaN</td>\n",
              "      <td>135.0</td>\n",
              "      <td>Montreal, PQ / Chesterville, ON</td>\n",
              "      <td>0</td>\n",
              "      <td>1</td>\n",
              "      <td>1</td>\n",
              "      <td>0</td>\n",
              "      <td>0</td>\n",
              "      <td>0</td>\n",
              "      <td>0</td>\n",
              "      <td>1</td>\n",
              "      <td>0.009230</td>\n",
              "      <td>2.286476</td>\n",
              "    </tr>\n",
              "    <tr>\n",
              "      <th>4</th>\n",
              "      <td>0</td>\n",
              "      <td>Allison, Mrs. Hudson J C (Bessie Waldo Daniels)</td>\n",
              "      <td>1</td>\n",
              "      <td>2</td>\n",
              "      <td>113781</td>\n",
              "      <td>C22 C26</td>\n",
              "      <td>NaN</td>\n",
              "      <td>NaN</td>\n",
              "      <td>Montreal, PQ / Chesterville, ON</td>\n",
              "      <td>1</td>\n",
              "      <td>0</td>\n",
              "      <td>1</td>\n",
              "      <td>0</td>\n",
              "      <td>0</td>\n",
              "      <td>0</td>\n",
              "      <td>0</td>\n",
              "      <td>1</td>\n",
              "      <td>-0.379021</td>\n",
              "      <td>2.286476</td>\n",
              "    </tr>\n",
              "  </tbody>\n",
              "</table>\n",
              "</div>"
            ],
            "text/plain": [
              "   survived  ... fare_norm\n",
              "0         1  ...  3.442480\n",
              "1         1  ...  2.286476\n",
              "2         0  ...  2.286476\n",
              "3         0  ...  2.286476\n",
              "4         0  ...  2.286476\n",
              "\n",
              "[5 rows x 19 columns]"
            ]
          },
          "metadata": {
            "tags": []
          },
          "execution_count": 87
        }
      ]
    },
    {
      "cell_type": "markdown",
      "metadata": {
        "id": "uLxN3PozntKe",
        "colab_type": "text"
      },
      "source": [
        "###Plotting\n",
        "1. plot the age against the ID(continuous)\n",
        "2. plot the fare against the ID(scatter)"
      ]
    },
    {
      "cell_type": "code",
      "metadata": {
        "id": "LdSfNEKYn_RO",
        "colab_type": "code",
        "colab": {
          "base_uri": "https://localhost:8080/",
          "height": 542
        },
        "outputId": "e0c84d97-08fe-4491-ce06-a24057adaa4d"
      },
      "source": [
        "import matplotlib.pyplot as plt\n",
        "import seaborn as sns\n",
        "sns.scatterplot(x=\"age_norm\",y=\"sibsp\",data=df)\n",
        "plt.show()\n",
        "sns.scatterplot(x=\"fare_norm\",y=\"sibsp\",data=df)\n",
        "plt.show()"
      ],
      "execution_count": 99,
      "outputs": [
        {
          "output_type": "display_data",
          "data": {
            "image/png": "[encoded data removed]",
            "text/plain": [
              "<Figure size 432x288 with 1 Axes>"
            ]
          },
          "metadata": {
            "tags": [],
            "needs_background": "light"
          }
        },
        {
          "output_type": "display_data",
          "data": {
            "image/png": "[encoded data removed]",
            "text/plain": [
              "<Figure size 432x288 with 1 Axes>"
            ]
          },
          "metadata": {
            "tags": [],
            "needs_background": "light"
          }
        }
      ]
    },
    {
      "cell_type": "markdown",
      "metadata": {
        "id": "LQr7y6eevTvy",
        "colab_type": "text"
      },
      "source": [
        "## End of Part - 2\n",
        "---"
      ]
    },
    {
      "cell_type": "markdown",
      "metadata": {
        "id": "TWhZcKvfvW2B",
        "colab_type": "text"
      },
      "source": [
        "## Part - 3\n",
        "---"
      ]
    },
    {
      "cell_type": "markdown",
      "metadata": {
        "id": "8bY4H9DszQ2S",
        "colab_type": "text"
      },
      "source": [
        "In this part, you will work with the library ```matplotlib```. Import the ```pyplot``` from ```matplotlib``` with an alias name ```plt```."
      ]
    },
    {
      "cell_type": "code",
      "metadata": {
        "id": "hPN6qctRzknT",
        "colab_type": "code",
        "colab": {}
      },
      "source": [
        "import matplotlib.pyplot as plt\n"
      ],
      "execution_count": 0,
      "outputs": []
    },
    {
      "cell_type": "markdown",
      "metadata": {
        "id": "fQ6KX_Aezlub",
        "colab_type": "text"
      },
      "source": [
        "Plot the sine function with domain in $[-3\\pi,3\\pi]$. Label the axes appropriately. Add title $\\sin(x)$. Use latex formatting while adding the title. Set the plot size to (10,10)"
      ]
    },
    {
      "cell_type": "code",
      "metadata": {
        "id": "0tA3J5mA1cQ0",
        "colab_type": "code",
        "colab": {
          "base_uri": "https://localhost:8080/",
          "height": 630
        },
        "outputId": "c3dcf149-9546-4dc7-b161-68006c20a47c"
      },
      "source": [
        "x = np.arange(-3*np.pi,3*np.pi,0.1)   # start,stop,step\n",
        "y = np.sin(x)\n",
        "plt.figure(figsize =(10,10))\n",
        "ax = plt.plot(x, y)\n",
        "plt.xlabel(r'$\\pi$', fontsize=18)\n",
        "plt.ylabel(r'$y$', fontsize=18)\n",
        "plt.title(\"Range [−3π,3π]\")\n",
        "plt.show()"
      ],
      "execution_count": 106,
      "outputs": [
        {
          "output_type": "display_data",
          "data": {
            "image/png": "[encoded data removed]",
            "text/plain": [
              "<Figure size 720x720 with 1 Axes>"
            ]
          },
          "metadata": {
            "tags": [],
            "needs_background": "light"
          }
        }
      ]
    },
    {
      "cell_type": "markdown",
      "metadata": {
        "id": "6KV7RqMm1d8P",
        "colab_type": "text"
      },
      "source": [
        "Plot $\\sin(x)$ and its spectrum, $\\cos(x)$ and its spectrum in a single plot, in the domain $[-2\\pi,2\\pi]$. Label the plot appropriately."
      ]
    },
    {
      "cell_type": "code",
      "metadata": {
        "id": "-OJuY0HO12Oo",
        "colab_type": "code",
        "colab": {
          "base_uri": "https://localhost:8080/",
          "height": 630
        },
        "outputId": "924ee19b-e7f6-411c-cd3b-24e4cf605a93"
      },
      "source": [
        "x = np.arange(-2*np.pi,2*np.pi,0.11)   # start,stop,step\n",
        "y = np.sin(x)\n",
        "z = np.cos(x)\n",
        "plt.figure(figsize =(10,10))\n",
        "plt.plot(x, y,label=\"sin\")\n",
        "plt.plot(x,z,label=\"cos\")\n",
        "plt.xlabel(r'$\\pi$', fontsize=18)\n",
        "plt.ylabel(r'$y$', fontsize=18)\n",
        "plt.title(\"Range [−3π,3π]\")\n",
        "plt.legend()\n",
        "plt.show()"
      ],
      "execution_count": 112,
      "outputs": [
        {
          "output_type": "display_data",
          "data": {
            "image/png": "[encoded data removed]",
            "text/plain": [
              "<Figure size 720x720 with 1 Axes>"
            ]
          },
          "metadata": {
            "tags": [],
            "needs_background": "light"
          }
        }
      ]
    },
    {
      "cell_type": "markdown",
      "metadata": {
        "id": "1S6ZRm6B18ZF",
        "colab_type": "text"
      },
      "source": [
        "## End of Part - 3\n",
        "---"
      ]
    },
    {
      "cell_type": "markdown",
      "metadata": {
        "id": "MUucpzXBl096",
        "colab_type": "text"
      },
      "source": [
        "Create a Github repository with the name ***SHALA2020*** and save this assignment there."
      ]
    }
  ]
}